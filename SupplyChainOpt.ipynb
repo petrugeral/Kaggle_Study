{
 "cells": [
  {
   "cell_type": "markdown",
   "metadata": {},
   "source": [
    "# I. Importing Libraries"
   ]
  },
  {
   "cell_type": "code",
   "execution_count": 95,
   "metadata": {},
   "outputs": [],
   "source": [
    "# Importing libraries\n",
    "import pandas as pd\n",
    "import numpy as np\n"
   ]
  },
  {
   "cell_type": "markdown",
   "metadata": {},
   "source": [
    "# II. Dataset Download\n",
    "#### Spreadsheet with datasets in tabs - access via dictionary to facilitate calling each dataset."
   ]
  },
  {
   "cell_type": "code",
   "execution_count": 96,
   "metadata": {},
   "outputs": [
    {
     "data": {
      "text/plain": [
       "dict_keys(['OrderList', 'FreightRates', 'WhCosts', 'WhCapacities', 'ProductsPerPlant', 'VmiCustomers', 'PlantPorts'])"
      ]
     },
     "execution_count": 96,
     "metadata": {},
     "output_type": "execute_result"
    }
   ],
   "source": [
    "# Load data source\n",
    "mainFile = pd.ExcelFile('/home/giovane/estudo_pessoal/supply_opt/Supply_Optimization/Data/Supply chain logisitcs problem_02.xlsx')\n",
    "# reading in all from excel sheets.\n",
    "\n",
    "# using dictionary to access all dataframe variable easier.\n",
    "df_dict = {}\n",
    "\n",
    "for names in mainFile.sheet_names:  # returns a list of sheet names in the excel file.\n",
    "    globals()[names] = mainFile.parse(names)\n",
    "    df_dict[names] = globals()[names]\n",
    "# show all keys\n",
    "df_dict.keys()"
   ]
  },
  {
   "cell_type": "code",
   "execution_count": 97,
   "metadata": {},
   "outputs": [
    {
     "data": {
      "text/html": [
       "<div>\n",
       "<style scoped>\n",
       "    .dataframe tbody tr th:only-of-type {\n",
       "        vertical-align: middle;\n",
       "    }\n",
       "\n",
       "    .dataframe tbody tr th {\n",
       "        vertical-align: top;\n",
       "    }\n",
       "\n",
       "    .dataframe thead th {\n",
       "        text-align: right;\n",
       "    }\n",
       "</style>\n",
       "<table border=\"1\" class=\"dataframe\">\n",
       "  <thead>\n",
       "    <tr style=\"text-align: right;\">\n",
       "      <th></th>\n",
       "      <th>Order ID</th>\n",
       "      <th>Order Date</th>\n",
       "      <th>Origin Port</th>\n",
       "      <th>Carrier</th>\n",
       "      <th>TPT</th>\n",
       "      <th>Service Level</th>\n",
       "      <th>Ship ahead day count</th>\n",
       "      <th>Ship Late Day count</th>\n",
       "      <th>Customer</th>\n",
       "      <th>Product ID</th>\n",
       "      <th>Plant Code</th>\n",
       "      <th>Destination Port</th>\n",
       "      <th>Unit quantity</th>\n",
       "      <th>Weight</th>\n",
       "    </tr>\n",
       "  </thead>\n",
       "  <tbody>\n",
       "    <tr>\n",
       "      <th>0</th>\n",
       "      <td>1.447296e+09</td>\n",
       "      <td>2013-05-26</td>\n",
       "      <td>PORT09</td>\n",
       "      <td>V44_3</td>\n",
       "      <td>1</td>\n",
       "      <td>CRF</td>\n",
       "      <td>3</td>\n",
       "      <td>0</td>\n",
       "      <td>V55555_53</td>\n",
       "      <td>1700106</td>\n",
       "      <td>PLANT16</td>\n",
       "      <td>PORT05</td>\n",
       "      <td>808</td>\n",
       "      <td>14.300000</td>\n",
       "    </tr>\n",
       "    <tr>\n",
       "      <th>1</th>\n",
       "      <td>1.447158e+09</td>\n",
       "      <td>2013-05-26</td>\n",
       "      <td>PORT09</td>\n",
       "      <td>V44_3</td>\n",
       "      <td>1</td>\n",
       "      <td>CRF</td>\n",
       "      <td>3</td>\n",
       "      <td>0</td>\n",
       "      <td>V55555_53</td>\n",
       "      <td>1700106</td>\n",
       "      <td>PLANT16</td>\n",
       "      <td>PORT06</td>\n",
       "      <td>3188</td>\n",
       "      <td>87.940000</td>\n",
       "    </tr>\n",
       "    <tr>\n",
       "      <th>2</th>\n",
       "      <td>1.447139e+09</td>\n",
       "      <td>2013-05-26</td>\n",
       "      <td>PORT09</td>\n",
       "      <td>V44_3</td>\n",
       "      <td>1</td>\n",
       "      <td>CRF</td>\n",
       "      <td>3</td>\n",
       "      <td>0</td>\n",
       "      <td>V55555_53</td>\n",
       "      <td>1700106</td>\n",
       "      <td>PLANT16</td>\n",
       "      <td>PORT07</td>\n",
       "      <td>2331</td>\n",
       "      <td>61.200000</td>\n",
       "    </tr>\n",
       "    <tr>\n",
       "      <th>3</th>\n",
       "      <td>1.447364e+09</td>\n",
       "      <td>2013-05-26</td>\n",
       "      <td>PORT09</td>\n",
       "      <td>V44_3</td>\n",
       "      <td>1</td>\n",
       "      <td>CRF</td>\n",
       "      <td>3</td>\n",
       "      <td>0</td>\n",
       "      <td>V55555_53</td>\n",
       "      <td>1700106</td>\n",
       "      <td>PLANT16</td>\n",
       "      <td>PORT08</td>\n",
       "      <td>847</td>\n",
       "      <td>16.160000</td>\n",
       "    </tr>\n",
       "    <tr>\n",
       "      <th>4</th>\n",
       "      <td>1.447364e+09</td>\n",
       "      <td>2013-05-26</td>\n",
       "      <td>PORT09</td>\n",
       "      <td>V44_3</td>\n",
       "      <td>1</td>\n",
       "      <td>CRF</td>\n",
       "      <td>3</td>\n",
       "      <td>0</td>\n",
       "      <td>V55555_53</td>\n",
       "      <td>1700106</td>\n",
       "      <td>PLANT16</td>\n",
       "      <td>PORT09</td>\n",
       "      <td>2163</td>\n",
       "      <td>52.340000</td>\n",
       "    </tr>\n",
       "    <tr>\n",
       "      <th>...</th>\n",
       "      <td>...</td>\n",
       "      <td>...</td>\n",
       "      <td>...</td>\n",
       "      <td>...</td>\n",
       "      <td>...</td>\n",
       "      <td>...</td>\n",
       "      <td>...</td>\n",
       "      <td>...</td>\n",
       "      <td>...</td>\n",
       "      <td>...</td>\n",
       "      <td>...</td>\n",
       "      <td>...</td>\n",
       "      <td>...</td>\n",
       "      <td>...</td>\n",
       "    </tr>\n",
       "    <tr>\n",
       "      <th>9210</th>\n",
       "      <td>1.447305e+09</td>\n",
       "      <td>2013-05-26</td>\n",
       "      <td>PORT04</td>\n",
       "      <td>V444_1</td>\n",
       "      <td>1</td>\n",
       "      <td>DTD</td>\n",
       "      <td>5</td>\n",
       "      <td>0</td>\n",
       "      <td>V55555555555555_8</td>\n",
       "      <td>1683388</td>\n",
       "      <td>PLANT03</td>\n",
       "      <td>PORT05</td>\n",
       "      <td>339</td>\n",
       "      <td>2.354118</td>\n",
       "    </tr>\n",
       "    <tr>\n",
       "      <th>9211</th>\n",
       "      <td>1.447319e+09</td>\n",
       "      <td>2013-05-26</td>\n",
       "      <td>PORT04</td>\n",
       "      <td>V444_1</td>\n",
       "      <td>1</td>\n",
       "      <td>DTD</td>\n",
       "      <td>5</td>\n",
       "      <td>0</td>\n",
       "      <td>V55555555555555_8</td>\n",
       "      <td>1683388</td>\n",
       "      <td>PLANT03</td>\n",
       "      <td>PORT06</td>\n",
       "      <td>339</td>\n",
       "      <td>2.354118</td>\n",
       "    </tr>\n",
       "    <tr>\n",
       "      <th>9212</th>\n",
       "      <td>1.447322e+09</td>\n",
       "      <td>2013-05-26</td>\n",
       "      <td>PORT04</td>\n",
       "      <td>V444_1</td>\n",
       "      <td>1</td>\n",
       "      <td>DTD</td>\n",
       "      <td>5</td>\n",
       "      <td>0</td>\n",
       "      <td>V55555555555555_8</td>\n",
       "      <td>1683388</td>\n",
       "      <td>PLANT03</td>\n",
       "      <td>PORT07</td>\n",
       "      <td>245</td>\n",
       "      <td>0.294265</td>\n",
       "    </tr>\n",
       "    <tr>\n",
       "      <th>9213</th>\n",
       "      <td>1.447145e+09</td>\n",
       "      <td>2013-05-26</td>\n",
       "      <td>PORT04</td>\n",
       "      <td>V444_1</td>\n",
       "      <td>1</td>\n",
       "      <td>DTD</td>\n",
       "      <td>5</td>\n",
       "      <td>0</td>\n",
       "      <td>V55555555555555_8</td>\n",
       "      <td>1683430</td>\n",
       "      <td>PLANT03</td>\n",
       "      <td>PORT08</td>\n",
       "      <td>278</td>\n",
       "      <td>2.480000</td>\n",
       "    </tr>\n",
       "    <tr>\n",
       "      <th>9214</th>\n",
       "      <td>1.447328e+09</td>\n",
       "      <td>2013-05-26</td>\n",
       "      <td>PORT04</td>\n",
       "      <td>V444_1</td>\n",
       "      <td>1</td>\n",
       "      <td>DTD</td>\n",
       "      <td>5</td>\n",
       "      <td>0</td>\n",
       "      <td>V55555555555555_8</td>\n",
       "      <td>1683424</td>\n",
       "      <td>PLANT03</td>\n",
       "      <td>PORT09</td>\n",
       "      <td>317</td>\n",
       "      <td>1.960000</td>\n",
       "    </tr>\n",
       "  </tbody>\n",
       "</table>\n",
       "<p>9215 rows × 14 columns</p>\n",
       "</div>"
      ],
      "text/plain": [
       "          Order ID Order Date Origin Port Carrier  TPT Service Level  \\\n",
       "0     1.447296e+09 2013-05-26      PORT09   V44_3    1           CRF   \n",
       "1     1.447158e+09 2013-05-26      PORT09   V44_3    1           CRF   \n",
       "2     1.447139e+09 2013-05-26      PORT09   V44_3    1           CRF   \n",
       "3     1.447364e+09 2013-05-26      PORT09   V44_3    1           CRF   \n",
       "4     1.447364e+09 2013-05-26      PORT09   V44_3    1           CRF   \n",
       "...            ...        ...         ...     ...  ...           ...   \n",
       "9210  1.447305e+09 2013-05-26      PORT04  V444_1    1           DTD   \n",
       "9211  1.447319e+09 2013-05-26      PORT04  V444_1    1           DTD   \n",
       "9212  1.447322e+09 2013-05-26      PORT04  V444_1    1           DTD   \n",
       "9213  1.447145e+09 2013-05-26      PORT04  V444_1    1           DTD   \n",
       "9214  1.447328e+09 2013-05-26      PORT04  V444_1    1           DTD   \n",
       "\n",
       "      Ship ahead day count  Ship Late Day count           Customer  \\\n",
       "0                        3                    0          V55555_53   \n",
       "1                        3                    0          V55555_53   \n",
       "2                        3                    0          V55555_53   \n",
       "3                        3                    0          V55555_53   \n",
       "4                        3                    0          V55555_53   \n",
       "...                    ...                  ...                ...   \n",
       "9210                     5                    0  V55555555555555_8   \n",
       "9211                     5                    0  V55555555555555_8   \n",
       "9212                     5                    0  V55555555555555_8   \n",
       "9213                     5                    0  V55555555555555_8   \n",
       "9214                     5                    0  V55555555555555_8   \n",
       "\n",
       "      Product ID Plant Code Destination Port  Unit quantity     Weight  \n",
       "0        1700106    PLANT16           PORT05            808  14.300000  \n",
       "1        1700106    PLANT16           PORT06           3188  87.940000  \n",
       "2        1700106    PLANT16           PORT07           2331  61.200000  \n",
       "3        1700106    PLANT16           PORT08            847  16.160000  \n",
       "4        1700106    PLANT16           PORT09           2163  52.340000  \n",
       "...          ...        ...              ...            ...        ...  \n",
       "9210     1683388    PLANT03           PORT05            339   2.354118  \n",
       "9211     1683388    PLANT03           PORT06            339   2.354118  \n",
       "9212     1683388    PLANT03           PORT07            245   0.294265  \n",
       "9213     1683430    PLANT03           PORT08            278   2.480000  \n",
       "9214     1683424    PLANT03           PORT09            317   1.960000  \n",
       "\n",
       "[9215 rows x 14 columns]"
      ]
     },
     "execution_count": 97,
     "metadata": {},
     "output_type": "execute_result"
    }
   ],
   "source": [
    "df_dict['OrderList']"
   ]
  },
  {
   "cell_type": "markdown",
   "metadata": {},
   "source": [
    "# III. Data preparation and Transformation"
   ]
  },
  {
   "cell_type": "code",
   "execution_count": 98,
   "metadata": {},
   "outputs": [
    {
     "name": "stdout",
     "output_type": "stream",
     "text": [
      "OrderList - shape: (9215, 14)\n",
      "FreightRates - shape: (1540, 11)\n",
      ">>>>FreightRates - duplicates: 3; missing values: 0\n",
      "WhCosts - shape: (19, 2)\n",
      "WhCapacities - shape: (19, 2)\n",
      "ProductsPerPlant - shape: (2036, 2)\n",
      "VmiCustomers - shape: (14, 2)\n",
      "PlantPorts - shape: (22, 2)\n"
     ]
    }
   ],
   "source": [
    "# Print the shape of each dataframe\n",
    "# Check and print - duplicates or missing values for each dataframe\n",
    "for df_name, df in df_dict.items():\n",
    "    print(df_name, '- shape:', df.shape)\n",
    "    duplicate_count = df.duplicated().sum()\n",
    "    missing_values_count = df.isnull().sum().sum()\n",
    "\n",
    "    if duplicate_count > 0 or missing_values_count > 0:\n",
    "        print(f\">>>>{df_name} - duplicates: {duplicate_count}; missing values: {missing_values_count}\")"
   ]
  },
  {
   "cell_type": "code",
   "execution_count": 99,
   "metadata": {},
   "outputs": [
    {
     "data": {
      "text/html": [
       "<div>\n",
       "<style scoped>\n",
       "    .dataframe tbody tr th:only-of-type {\n",
       "        vertical-align: middle;\n",
       "    }\n",
       "\n",
       "    .dataframe tbody tr th {\n",
       "        vertical-align: top;\n",
       "    }\n",
       "\n",
       "    .dataframe thead th {\n",
       "        text-align: right;\n",
       "    }\n",
       "</style>\n",
       "<table border=\"1\" class=\"dataframe\">\n",
       "  <thead>\n",
       "    <tr style=\"text-align: right;\">\n",
       "      <th></th>\n",
       "      <th>ORDER_ID</th>\n",
       "      <th>ORDER_DATE</th>\n",
       "      <th>ORIGIN_PORT</th>\n",
       "      <th>CARRIER</th>\n",
       "      <th>TPT</th>\n",
       "      <th>SERVICE_LEVEL</th>\n",
       "      <th>SHIP_AHEAD_DAY_COUNT</th>\n",
       "      <th>SHIP_LATE_DAY_COUNT</th>\n",
       "      <th>CUSTOMER</th>\n",
       "      <th>PRODUCT_ID</th>\n",
       "      <th>...</th>\n",
       "      <th>MAX_WGH_QTY</th>\n",
       "      <th>SVC_CD</th>\n",
       "      <th>MINIMUM_COST</th>\n",
       "      <th>RATE</th>\n",
       "      <th>MODE_DSC</th>\n",
       "      <th>TPT_DAY_CNT</th>\n",
       "      <th>CARRIER_TYPE</th>\n",
       "      <th>WH</th>\n",
       "      <th>COST_UNIT</th>\n",
       "      <th>COST</th>\n",
       "    </tr>\n",
       "  </thead>\n",
       "  <tbody>\n",
       "    <tr>\n",
       "      <th>859</th>\n",
       "      <td>1.447214e+09</td>\n",
       "      <td>2013-05-26</td>\n",
       "      <td>PORT09</td>\n",
       "      <td>V444_0</td>\n",
       "      <td>0</td>\n",
       "      <td>DTP</td>\n",
       "      <td>3</td>\n",
       "      <td>0</td>\n",
       "      <td>V555555_6</td>\n",
       "      <td>1692722</td>\n",
       "      <td>...</td>\n",
       "      <td>5000.00</td>\n",
       "      <td>DTP</td>\n",
       "      <td>31.2784</td>\n",
       "      <td>12.2784</td>\n",
       "      <td>GROUND</td>\n",
       "      <td>0.0</td>\n",
       "      <td>V88888888_0</td>\n",
       "      <td>PLANT16</td>\n",
       "      <td>1.919808</td>\n",
       "      <td>5366.922438</td>\n",
       "    </tr>\n",
       "    <tr>\n",
       "      <th>860</th>\n",
       "      <td>1.447214e+09</td>\n",
       "      <td>2013-05-26</td>\n",
       "      <td>PORT09</td>\n",
       "      <td>V444_0</td>\n",
       "      <td>0</td>\n",
       "      <td>DTP</td>\n",
       "      <td>3</td>\n",
       "      <td>0</td>\n",
       "      <td>V555555_6</td>\n",
       "      <td>1692722</td>\n",
       "      <td>...</td>\n",
       "      <td>5000.00</td>\n",
       "      <td>DTD</td>\n",
       "      <td>31.2784</td>\n",
       "      <td>13.2784</td>\n",
       "      <td>GROUND</td>\n",
       "      <td>0.0</td>\n",
       "      <td>V88888888_0</td>\n",
       "      <td>PLANT16</td>\n",
       "      <td>1.919808</td>\n",
       "      <td>5744.922438</td>\n",
       "    </tr>\n",
       "    <tr>\n",
       "      <th>871</th>\n",
       "      <td>1.447326e+09</td>\n",
       "      <td>2013-05-26</td>\n",
       "      <td>PORT09</td>\n",
       "      <td>V444_0</td>\n",
       "      <td>0</td>\n",
       "      <td>DTP</td>\n",
       "      <td>3</td>\n",
       "      <td>0</td>\n",
       "      <td>V555555_6</td>\n",
       "      <td>1692656</td>\n",
       "      <td>...</td>\n",
       "      <td>5000.00</td>\n",
       "      <td>DTP</td>\n",
       "      <td>31.2784</td>\n",
       "      <td>12.2784</td>\n",
       "      <td>GROUND</td>\n",
       "      <td>0.0</td>\n",
       "      <td>V88888888_0</td>\n",
       "      <td>PLANT16</td>\n",
       "      <td>1.919808</td>\n",
       "      <td>5267.534985</td>\n",
       "    </tr>\n",
       "    <tr>\n",
       "      <th>872</th>\n",
       "      <td>1.447326e+09</td>\n",
       "      <td>2013-05-26</td>\n",
       "      <td>PORT09</td>\n",
       "      <td>V444_0</td>\n",
       "      <td>0</td>\n",
       "      <td>DTP</td>\n",
       "      <td>3</td>\n",
       "      <td>0</td>\n",
       "      <td>V555555_6</td>\n",
       "      <td>1692656</td>\n",
       "      <td>...</td>\n",
       "      <td>5000.00</td>\n",
       "      <td>DTD</td>\n",
       "      <td>31.2784</td>\n",
       "      <td>13.2784</td>\n",
       "      <td>GROUND</td>\n",
       "      <td>0.0</td>\n",
       "      <td>V88888888_0</td>\n",
       "      <td>PLANT16</td>\n",
       "      <td>1.919808</td>\n",
       "      <td>5638.534985</td>\n",
       "    </tr>\n",
       "    <tr>\n",
       "      <th>878</th>\n",
       "      <td>1.447296e+09</td>\n",
       "      <td>2013-05-26</td>\n",
       "      <td>PORT09</td>\n",
       "      <td>V444_0</td>\n",
       "      <td>0</td>\n",
       "      <td>DTP</td>\n",
       "      <td>3</td>\n",
       "      <td>0</td>\n",
       "      <td>V555555_6</td>\n",
       "      <td>1692708</td>\n",
       "      <td>...</td>\n",
       "      <td>5000.00</td>\n",
       "      <td>DTP</td>\n",
       "      <td>31.2784</td>\n",
       "      <td>12.2784</td>\n",
       "      <td>GROUND</td>\n",
       "      <td>0.0</td>\n",
       "      <td>V88888888_0</td>\n",
       "      <td>PLANT16</td>\n",
       "      <td>1.919808</td>\n",
       "      <td>3989.696310</td>\n",
       "    </tr>\n",
       "    <tr>\n",
       "      <th>...</th>\n",
       "      <td>...</td>\n",
       "      <td>...</td>\n",
       "      <td>...</td>\n",
       "      <td>...</td>\n",
       "      <td>...</td>\n",
       "      <td>...</td>\n",
       "      <td>...</td>\n",
       "      <td>...</td>\n",
       "      <td>...</td>\n",
       "      <td>...</td>\n",
       "      <td>...</td>\n",
       "      <td>...</td>\n",
       "      <td>...</td>\n",
       "      <td>...</td>\n",
       "      <td>...</td>\n",
       "      <td>...</td>\n",
       "      <td>...</td>\n",
       "      <td>...</td>\n",
       "      <td>...</td>\n",
       "      <td>...</td>\n",
       "      <td>...</td>\n",
       "    </tr>\n",
       "    <tr>\n",
       "      <th>28704</th>\n",
       "      <td>1.447328e+09</td>\n",
       "      <td>2013-05-26</td>\n",
       "      <td>PORT04</td>\n",
       "      <td>V444_1</td>\n",
       "      <td>1</td>\n",
       "      <td>DTD</td>\n",
       "      <td>5</td>\n",
       "      <td>0</td>\n",
       "      <td>V55555555555555_8</td>\n",
       "      <td>1683424</td>\n",
       "      <td>...</td>\n",
       "      <td>99.99</td>\n",
       "      <td>DTD</td>\n",
       "      <td>7.8044</td>\n",
       "      <td>0.0804</td>\n",
       "      <td>AIR</td>\n",
       "      <td>1.0</td>\n",
       "      <td>V888888883_1</td>\n",
       "      <td>PLANT03</td>\n",
       "      <td>0.517502</td>\n",
       "      <td>189.534900</td>\n",
       "    </tr>\n",
       "    <tr>\n",
       "      <th>28705</th>\n",
       "      <td>1.447328e+09</td>\n",
       "      <td>2013-05-26</td>\n",
       "      <td>PORT04</td>\n",
       "      <td>V444_1</td>\n",
       "      <td>1</td>\n",
       "      <td>DTD</td>\n",
       "      <td>5</td>\n",
       "      <td>0</td>\n",
       "      <td>V55555555555555_8</td>\n",
       "      <td>1683424</td>\n",
       "      <td>...</td>\n",
       "      <td>299.99</td>\n",
       "      <td>DTD</td>\n",
       "      <td>11.2272</td>\n",
       "      <td>0.0792</td>\n",
       "      <td>AIR</td>\n",
       "      <td>1.0</td>\n",
       "      <td>V888888883_1</td>\n",
       "      <td>PLANT03</td>\n",
       "      <td>0.517502</td>\n",
       "      <td>189.154500</td>\n",
       "    </tr>\n",
       "    <tr>\n",
       "      <th>28706</th>\n",
       "      <td>1.447328e+09</td>\n",
       "      <td>2013-05-26</td>\n",
       "      <td>PORT04</td>\n",
       "      <td>V444_1</td>\n",
       "      <td>1</td>\n",
       "      <td>DTD</td>\n",
       "      <td>5</td>\n",
       "      <td>0</td>\n",
       "      <td>V55555555555555_8</td>\n",
       "      <td>1683424</td>\n",
       "      <td>...</td>\n",
       "      <td>499.99</td>\n",
       "      <td>DTD</td>\n",
       "      <td>31.2672</td>\n",
       "      <td>0.0780</td>\n",
       "      <td>AIR</td>\n",
       "      <td>1.0</td>\n",
       "      <td>V888888883_1</td>\n",
       "      <td>PLANT03</td>\n",
       "      <td>0.517502</td>\n",
       "      <td>188.774100</td>\n",
       "    </tr>\n",
       "    <tr>\n",
       "      <th>28707</th>\n",
       "      <td>1.447328e+09</td>\n",
       "      <td>2013-05-26</td>\n",
       "      <td>PORT04</td>\n",
       "      <td>V444_1</td>\n",
       "      <td>1</td>\n",
       "      <td>DTD</td>\n",
       "      <td>5</td>\n",
       "      <td>0</td>\n",
       "      <td>V55555555555555_8</td>\n",
       "      <td>1683424</td>\n",
       "      <td>...</td>\n",
       "      <td>999.99</td>\n",
       "      <td>DTD</td>\n",
       "      <td>49.4272</td>\n",
       "      <td>0.0760</td>\n",
       "      <td>AIR</td>\n",
       "      <td>1.0</td>\n",
       "      <td>V888888883_1</td>\n",
       "      <td>PLANT03</td>\n",
       "      <td>0.517502</td>\n",
       "      <td>188.140100</td>\n",
       "    </tr>\n",
       "    <tr>\n",
       "      <th>28708</th>\n",
       "      <td>1.447328e+09</td>\n",
       "      <td>2013-05-26</td>\n",
       "      <td>PORT04</td>\n",
       "      <td>V444_1</td>\n",
       "      <td>1</td>\n",
       "      <td>DTD</td>\n",
       "      <td>5</td>\n",
       "      <td>0</td>\n",
       "      <td>V55555555555555_8</td>\n",
       "      <td>1683424</td>\n",
       "      <td>...</td>\n",
       "      <td>9999.99</td>\n",
       "      <td>DTD</td>\n",
       "      <td>95.2272</td>\n",
       "      <td>0.0744</td>\n",
       "      <td>AIR</td>\n",
       "      <td>1.0</td>\n",
       "      <td>V888888883_1</td>\n",
       "      <td>PLANT03</td>\n",
       "      <td>0.517502</td>\n",
       "      <td>187.632900</td>\n",
       "    </tr>\n",
       "  </tbody>\n",
       "</table>\n",
       "<p>20308 rows × 27 columns</p>\n",
       "</div>"
      ],
      "text/plain": [
       "           ORDER_ID ORDER_DATE ORIGIN_PORT CARRIER  TPT SERVICE_LEVEL  \\\n",
       "859    1.447214e+09 2013-05-26      PORT09  V444_0    0           DTP   \n",
       "860    1.447214e+09 2013-05-26      PORT09  V444_0    0           DTP   \n",
       "871    1.447326e+09 2013-05-26      PORT09  V444_0    0           DTP   \n",
       "872    1.447326e+09 2013-05-26      PORT09  V444_0    0           DTP   \n",
       "878    1.447296e+09 2013-05-26      PORT09  V444_0    0           DTP   \n",
       "...             ...        ...         ...     ...  ...           ...   \n",
       "28704  1.447328e+09 2013-05-26      PORT04  V444_1    1           DTD   \n",
       "28705  1.447328e+09 2013-05-26      PORT04  V444_1    1           DTD   \n",
       "28706  1.447328e+09 2013-05-26      PORT04  V444_1    1           DTD   \n",
       "28707  1.447328e+09 2013-05-26      PORT04  V444_1    1           DTD   \n",
       "28708  1.447328e+09 2013-05-26      PORT04  V444_1    1           DTD   \n",
       "\n",
       "       SHIP_AHEAD_DAY_COUNT  SHIP_LATE_DAY_COUNT           CUSTOMER  \\\n",
       "859                       3                    0          V555555_6   \n",
       "860                       3                    0          V555555_6   \n",
       "871                       3                    0          V555555_6   \n",
       "872                       3                    0          V555555_6   \n",
       "878                       3                    0          V555555_6   \n",
       "...                     ...                  ...                ...   \n",
       "28704                     5                    0  V55555555555555_8   \n",
       "28705                     5                    0  V55555555555555_8   \n",
       "28706                     5                    0  V55555555555555_8   \n",
       "28707                     5                    0  V55555555555555_8   \n",
       "28708                     5                    0  V55555555555555_8   \n",
       "\n",
       "       PRODUCT_ID  ... MAX_WGH_QTY SVC_CD  MINIMUM_COST     RATE MODE_DSC  \\\n",
       "859       1692722  ...     5000.00    DTP       31.2784  12.2784   GROUND   \n",
       "860       1692722  ...     5000.00    DTD       31.2784  13.2784   GROUND   \n",
       "871       1692656  ...     5000.00    DTP       31.2784  12.2784   GROUND   \n",
       "872       1692656  ...     5000.00    DTD       31.2784  13.2784   GROUND   \n",
       "878       1692708  ...     5000.00    DTP       31.2784  12.2784   GROUND   \n",
       "...           ...  ...         ...    ...           ...      ...      ...   \n",
       "28704     1683424  ...       99.99    DTD        7.8044   0.0804   AIR      \n",
       "28705     1683424  ...      299.99    DTD       11.2272   0.0792   AIR      \n",
       "28706     1683424  ...      499.99    DTD       31.2672   0.0780   AIR      \n",
       "28707     1683424  ...      999.99    DTD       49.4272   0.0760   AIR      \n",
       "28708     1683424  ...     9999.99    DTD       95.2272   0.0744   AIR      \n",
       "\n",
       "      TPT_DAY_CNT  CARRIER_TYPE       WH COST_UNIT         COST  \n",
       "859           0.0   V88888888_0  PLANT16  1.919808  5366.922438  \n",
       "860           0.0   V88888888_0  PLANT16  1.919808  5744.922438  \n",
       "871           0.0   V88888888_0  PLANT16  1.919808  5267.534985  \n",
       "872           0.0   V88888888_0  PLANT16  1.919808  5638.534985  \n",
       "878           0.0   V88888888_0  PLANT16  1.919808  3989.696310  \n",
       "...           ...           ...      ...       ...          ...  \n",
       "28704         1.0  V888888883_1  PLANT03  0.517502   189.534900  \n",
       "28705         1.0  V888888883_1  PLANT03  0.517502   189.154500  \n",
       "28706         1.0  V888888883_1  PLANT03  0.517502   188.774100  \n",
       "28707         1.0  V888888883_1  PLANT03  0.517502   188.140100  \n",
       "28708         1.0  V888888883_1  PLANT03  0.517502   187.632900  \n",
       "\n",
       "[20308 rows x 27 columns]"
      ]
     },
     "execution_count": 99,
     "metadata": {},
     "output_type": "execute_result"
    }
   ],
   "source": [
    "# drop duplicates\n",
    "FreightRates = FreightRates.drop_duplicates()\n",
    "# update dictionary\n",
    "df_dict['FreightRates'] = FreightRates\n",
    "# Rename columns by replacing spaces with underscores and '/', make them all uppercase.\n",
    "for df_name, df in df_dict.items():\n",
    "    df.columns = [col.strip().replace(' ', '_').replace('/', '_').upper() for col in df.columns]\n",
    "# Update OrderList dataframe with cost calculation\n",
    "orderList = df_dict['OrderList']  # Get the OrderList dataframe\n",
    "\n",
    "# Merge OrderList with FreightRates and WhCosts on relevant columns\n",
    "orderList = orderList.merge(df_dict['FreightRates'], left_on=['CARRIER', 'ORIGIN_PORT', 'DESTINATION_PORT'],\n",
    "                            right_on=['CARRIER', 'ORIG_PORT_CD', 'DEST_PORT_CD'], how='left')\n",
    "orderList = orderList.merge(df_dict['WhCosts'], left_on='PLANT_CODE', right_on='WH', how='left')\n",
    "\n",
    "# Calculate the cost by multiplying unit quantity with the shipping rate and adding the storage cost\n",
    "orderList['COST'] = (orderList['UNIT_QUANTITY'] * orderList['RATE']) + (orderList['UNIT_QUANTITY'] * orderList['COST_UNIT'])\n",
    "\n",
    "# Perform detailed data preparation and transformation for OrderList dataframe\n",
    "orderList = orderList.dropna()  # Drop rows with missing values\n",
    "orderList['ORDER_DATE'] = pd.to_datetime(orderList['ORDER_DATE'])\n",
    "\n",
    "# Perform additional data preparation and transformation for other dataframes\n",
    "# Assuming you want to perform similar steps for ProductsPerPlant dataframe\n",
    "productsPerPlant = df_dict['ProductsPerPlant']\n",
    "productsPerPlant = productsPerPlant.dropna()  # Drop rows with missing values\n",
    "\n",
    "# update dictionary values\n",
    "df_dict['OrderList'] = orderList\n",
    "df_dict['ProductsPerPlant'] = productsPerPlant\n",
    "\n",
    "# Print the updated OrderList dataframe\n",
    "orderList"
   ]
  },
  {
   "cell_type": "code",
   "execution_count": 100,
   "metadata": {},
   "outputs": [
    {
     "name": "stdout",
     "output_type": "stream",
     "text": [
      "Dataframe: OrderList >>>\n",
      "Columns: ['ORDER_ID' 'ORDER_DATE' 'ORIGIN_PORT' 'CARRIER' 'TPT' 'SERVICE_LEVEL'\n",
      " 'SHIP_AHEAD_DAY_COUNT' 'SHIP_LATE_DAY_COUNT' 'CUSTOMER' 'PRODUCT_ID'\n",
      " 'PLANT_CODE' 'DESTINATION_PORT' 'UNIT_QUANTITY' 'WEIGHT' 'ORIG_PORT_CD'\n",
      " 'DEST_PORT_CD' 'MINM_WGH_QTY' 'MAX_WGH_QTY' 'SVC_CD' 'MINIMUM_COST'\n",
      " 'RATE' 'MODE_DSC' 'TPT_DAY_CNT' 'CARRIER_TYPE' 'WH' 'COST_UNIT' 'COST']\n",
      "Dataframe: FreightRates >>>\n",
      "Columns: ['CARRIER' 'ORIG_PORT_CD' 'DEST_PORT_CD' 'MINM_WGH_QTY' 'MAX_WGH_QTY'\n",
      " 'SVC_CD' 'MINIMUM_COST' 'RATE' 'MODE_DSC' 'TPT_DAY_CNT' 'CARRIER_TYPE']\n",
      "Dataframe: WhCosts >>>\n",
      "Columns: ['WH' 'COST_UNIT']\n",
      "Dataframe: WhCapacities >>>\n",
      "Columns: ['PLANT_ID' 'DAILY_CAPACITY']\n",
      "Dataframe: ProductsPerPlant >>>\n",
      "Columns: ['PLANT_CODE' 'PRODUCT_ID']\n",
      "Dataframe: VmiCustomers >>>\n",
      "Columns: ['PLANT_CODE' 'CUSTOMERS']\n",
      "Dataframe: PlantPorts >>>\n",
      "Columns: ['PLANT_CODE' 'PORT']\n"
     ]
    }
   ],
   "source": [
    "# Check updated columns of all dataframes\n",
    "for df_name, df in df_dict.items():\n",
    "    print(f'Dataframe: {df_name} >>>')\n",
    "    print('Columns:', df.columns.values)"
   ]
  },
  {
   "cell_type": "markdown",
   "metadata": {},
   "source": [
    "# IV. Exploratory Data Analysis"
   ]
  },
  {
   "cell_type": "code",
   "execution_count": 101,
   "metadata": {},
   "outputs": [
    {
     "data": {
      "text/html": [
       "<div>\n",
       "<style scoped>\n",
       "    .dataframe tbody tr th:only-of-type {\n",
       "        vertical-align: middle;\n",
       "    }\n",
       "\n",
       "    .dataframe tbody tr th {\n",
       "        vertical-align: top;\n",
       "    }\n",
       "\n",
       "    .dataframe thead th {\n",
       "        text-align: right;\n",
       "    }\n",
       "</style>\n",
       "<table border=\"1\" class=\"dataframe\">\n",
       "  <thead>\n",
       "    <tr style=\"text-align: right;\">\n",
       "      <th></th>\n",
       "      <th>ORDER_ID</th>\n",
       "      <th>ORDER_DATE</th>\n",
       "      <th>TPT</th>\n",
       "      <th>SHIP_AHEAD_DAY_COUNT</th>\n",
       "      <th>SHIP_LATE_DAY_COUNT</th>\n",
       "      <th>PRODUCT_ID</th>\n",
       "      <th>UNIT_QUANTITY</th>\n",
       "      <th>WEIGHT</th>\n",
       "      <th>MINM_WGH_QTY</th>\n",
       "      <th>MAX_WGH_QTY</th>\n",
       "      <th>MINIMUM_COST</th>\n",
       "      <th>RATE</th>\n",
       "      <th>TPT_DAY_CNT</th>\n",
       "      <th>COST_UNIT</th>\n",
       "      <th>COST</th>\n",
       "    </tr>\n",
       "  </thead>\n",
       "  <tbody>\n",
       "    <tr>\n",
       "      <th>count</th>\n",
       "      <td>2.030800e+04</td>\n",
       "      <td>20308</td>\n",
       "      <td>20308.000000</td>\n",
       "      <td>20308.000000</td>\n",
       "      <td>20308.000000</td>\n",
       "      <td>2.030800e+04</td>\n",
       "      <td>20308.00000</td>\n",
       "      <td>20308.000000</td>\n",
       "      <td>20308.000000</td>\n",
       "      <td>20308.000000</td>\n",
       "      <td>20308.000000</td>\n",
       "      <td>20308.000000</td>\n",
       "      <td>20308.000000</td>\n",
       "      <td>20308.000000</td>\n",
       "      <td>20308.000000</td>\n",
       "    </tr>\n",
       "    <tr>\n",
       "      <th>mean</th>\n",
       "      <td>1.447278e+09</td>\n",
       "      <td>2013-05-26 00:00:00</td>\n",
       "      <td>1.623006</td>\n",
       "      <td>1.902895</td>\n",
       "      <td>0.034469</td>\n",
       "      <td>1.679995e+06</td>\n",
       "      <td>2711.42919</td>\n",
       "      <td>18.387101</td>\n",
       "      <td>419.389364</td>\n",
       "      <td>12738.870790</td>\n",
       "      <td>9.931285</td>\n",
       "      <td>0.133732</td>\n",
       "      <td>2.095233</td>\n",
       "      <td>0.527744</td>\n",
       "      <td>1609.162670</td>\n",
       "    </tr>\n",
       "    <tr>\n",
       "      <th>min</th>\n",
       "      <td>1.447133e+09</td>\n",
       "      <td>2013-05-26 00:00:00</td>\n",
       "      <td>0.000000</td>\n",
       "      <td>0.000000</td>\n",
       "      <td>0.000000</td>\n",
       "      <td>1.613321e+06</td>\n",
       "      <td>235.00000</td>\n",
       "      <td>0.013208</td>\n",
       "      <td>0.000000</td>\n",
       "      <td>0.500000</td>\n",
       "      <td>1.202000</td>\n",
       "      <td>0.042400</td>\n",
       "      <td>0.000000</td>\n",
       "      <td>0.465071</td>\n",
       "      <td>131.576945</td>\n",
       "    </tr>\n",
       "    <tr>\n",
       "      <th>25%</th>\n",
       "      <td>1.447199e+09</td>\n",
       "      <td>2013-05-26 00:00:00</td>\n",
       "      <td>1.000000</td>\n",
       "      <td>0.000000</td>\n",
       "      <td>0.000000</td>\n",
       "      <td>1.671426e+06</td>\n",
       "      <td>327.00000</td>\n",
       "      <td>1.162315</td>\n",
       "      <td>1.510000</td>\n",
       "      <td>99.990000</td>\n",
       "      <td>1.499200</td>\n",
       "      <td>0.048400</td>\n",
       "      <td>2.000000</td>\n",
       "      <td>0.517502</td>\n",
       "      <td>199.565632</td>\n",
       "    </tr>\n",
       "    <tr>\n",
       "      <th>50%</th>\n",
       "      <td>1.447284e+09</td>\n",
       "      <td>2013-05-26 00:00:00</td>\n",
       "      <td>2.000000</td>\n",
       "      <td>1.000000</td>\n",
       "      <td>0.000000</td>\n",
       "      <td>1.683560e+06</td>\n",
       "      <td>434.00000</td>\n",
       "      <td>4.300860</td>\n",
       "      <td>100.000000</td>\n",
       "      <td>299.990000</td>\n",
       "      <td>3.455200</td>\n",
       "      <td>0.056400</td>\n",
       "      <td>2.000000</td>\n",
       "      <td>0.517502</td>\n",
       "      <td>302.049383</td>\n",
       "    </tr>\n",
       "    <tr>\n",
       "      <th>75%</th>\n",
       "      <td>1.447357e+09</td>\n",
       "      <td>2013-05-26 00:00:00</td>\n",
       "      <td>2.000000</td>\n",
       "      <td>3.000000</td>\n",
       "      <td>0.000000</td>\n",
       "      <td>1.689547e+06</td>\n",
       "      <td>971.00000</td>\n",
       "      <td>13.349225</td>\n",
       "      <td>500.000000</td>\n",
       "      <td>1999.990000</td>\n",
       "      <td>3.455200</td>\n",
       "      <td>0.082400</td>\n",
       "      <td>3.000000</td>\n",
       "      <td>0.517502</td>\n",
       "      <td>654.456579</td>\n",
       "    </tr>\n",
       "    <tr>\n",
       "      <th>max</th>\n",
       "      <td>1.447425e+09</td>\n",
       "      <td>2013-05-26 00:00:00</td>\n",
       "      <td>3.000000</td>\n",
       "      <td>5.000000</td>\n",
       "      <td>3.000000</td>\n",
       "      <td>1.701405e+06</td>\n",
       "      <td>251922.00000</td>\n",
       "      <td>946.500000</td>\n",
       "      <td>2000.000000</td>\n",
       "      <td>99999.990000</td>\n",
       "      <td>101.827200</td>\n",
       "      <td>13.278400</td>\n",
       "      <td>3.000000</td>\n",
       "      <td>1.919808</td>\n",
       "      <td>151128.484342</td>\n",
       "    </tr>\n",
       "    <tr>\n",
       "      <th>std</th>\n",
       "      <td>8.652140e+04</td>\n",
       "      <td>NaN</td>\n",
       "      <td>0.497481</td>\n",
       "      <td>2.051157</td>\n",
       "      <td>0.283826</td>\n",
       "      <td>1.436758e+04</td>\n",
       "      <td>12725.73749</td>\n",
       "      <td>53.713845</td>\n",
       "      <td>627.641349</td>\n",
       "      <td>32156.456779</td>\n",
       "      <td>21.353463</td>\n",
       "      <td>0.291500</td>\n",
       "      <td>0.701665</td>\n",
       "      <td>0.057141</td>\n",
       "      <td>7211.631085</td>\n",
       "    </tr>\n",
       "  </tbody>\n",
       "</table>\n",
       "</div>"
      ],
      "text/plain": [
       "           ORDER_ID           ORDER_DATE           TPT  SHIP_AHEAD_DAY_COUNT  \\\n",
       "count  2.030800e+04                20308  20308.000000          20308.000000   \n",
       "mean   1.447278e+09  2013-05-26 00:00:00      1.623006              1.902895   \n",
       "min    1.447133e+09  2013-05-26 00:00:00      0.000000              0.000000   \n",
       "25%    1.447199e+09  2013-05-26 00:00:00      1.000000              0.000000   \n",
       "50%    1.447284e+09  2013-05-26 00:00:00      2.000000              1.000000   \n",
       "75%    1.447357e+09  2013-05-26 00:00:00      2.000000              3.000000   \n",
       "max    1.447425e+09  2013-05-26 00:00:00      3.000000              5.000000   \n",
       "std    8.652140e+04                  NaN      0.497481              2.051157   \n",
       "\n",
       "       SHIP_LATE_DAY_COUNT    PRODUCT_ID  UNIT_QUANTITY        WEIGHT  \\\n",
       "count         20308.000000  2.030800e+04    20308.00000  20308.000000   \n",
       "mean              0.034469  1.679995e+06     2711.42919     18.387101   \n",
       "min               0.000000  1.613321e+06      235.00000      0.013208   \n",
       "25%               0.000000  1.671426e+06      327.00000      1.162315   \n",
       "50%               0.000000  1.683560e+06      434.00000      4.300860   \n",
       "75%               0.000000  1.689547e+06      971.00000     13.349225   \n",
       "max               3.000000  1.701405e+06   251922.00000    946.500000   \n",
       "std               0.283826  1.436758e+04    12725.73749     53.713845   \n",
       "\n",
       "       MINM_WGH_QTY   MAX_WGH_QTY  MINIMUM_COST          RATE   TPT_DAY_CNT  \\\n",
       "count  20308.000000  20308.000000  20308.000000  20308.000000  20308.000000   \n",
       "mean     419.389364  12738.870790      9.931285      0.133732      2.095233   \n",
       "min        0.000000      0.500000      1.202000      0.042400      0.000000   \n",
       "25%        1.510000     99.990000      1.499200      0.048400      2.000000   \n",
       "50%      100.000000    299.990000      3.455200      0.056400      2.000000   \n",
       "75%      500.000000   1999.990000      3.455200      0.082400      3.000000   \n",
       "max     2000.000000  99999.990000    101.827200     13.278400      3.000000   \n",
       "std      627.641349  32156.456779     21.353463      0.291500      0.701665   \n",
       "\n",
       "          COST_UNIT           COST  \n",
       "count  20308.000000   20308.000000  \n",
       "mean       0.527744    1609.162670  \n",
       "min        0.465071     131.576945  \n",
       "25%        0.517502     199.565632  \n",
       "50%        0.517502     302.049383  \n",
       "75%        0.517502     654.456579  \n",
       "max        1.919808  151128.484342  \n",
       "std        0.057141    7211.631085  "
      ]
     },
     "execution_count": 101,
     "metadata": {},
     "output_type": "execute_result"
    }
   ],
   "source": [
    "df_dict['OrderList'].describe()"
   ]
  },
  {
   "cell_type": "code",
   "execution_count": 102,
   "metadata": {},
   "outputs": [
    {
     "data": {
      "text/html": [
       "<div>\n",
       "<style scoped>\n",
       "    .dataframe tbody tr th:only-of-type {\n",
       "        vertical-align: middle;\n",
       "    }\n",
       "\n",
       "    .dataframe tbody tr th {\n",
       "        vertical-align: top;\n",
       "    }\n",
       "\n",
       "    .dataframe thead th {\n",
       "        text-align: right;\n",
       "    }\n",
       "</style>\n",
       "<table border=\"1\" class=\"dataframe\">\n",
       "  <thead>\n",
       "    <tr style=\"text-align: right;\">\n",
       "      <th></th>\n",
       "      <th>MINM_WGH_QTY</th>\n",
       "      <th>MAX_WGH_QTY</th>\n",
       "      <th>MINIMUM_COST</th>\n",
       "      <th>RATE</th>\n",
       "      <th>TPT_DAY_CNT</th>\n",
       "    </tr>\n",
       "  </thead>\n",
       "  <tbody>\n",
       "    <tr>\n",
       "      <th>count</th>\n",
       "      <td>1537.000000</td>\n",
       "      <td>1537.000000</td>\n",
       "      <td>1537.000000</td>\n",
       "      <td>1537.000000</td>\n",
       "      <td>1537.000000</td>\n",
       "    </tr>\n",
       "    <tr>\n",
       "      <th>mean</th>\n",
       "      <td>156.190905</td>\n",
       "      <td>4635.433438</td>\n",
       "      <td>12.300002</td>\n",
       "      <td>2.875135</td>\n",
       "      <td>2.188679</td>\n",
       "    </tr>\n",
       "    <tr>\n",
       "      <th>std</th>\n",
       "      <td>476.366708</td>\n",
       "      <td>20271.070359</td>\n",
       "      <td>22.959164</td>\n",
       "      <td>4.590475</td>\n",
       "      <td>2.002161</td>\n",
       "    </tr>\n",
       "    <tr>\n",
       "      <th>min</th>\n",
       "      <td>0.000000</td>\n",
       "      <td>0.453592</td>\n",
       "      <td>1.202000</td>\n",
       "      <td>0.033200</td>\n",
       "      <td>0.000000</td>\n",
       "    </tr>\n",
       "    <tr>\n",
       "      <th>25%</th>\n",
       "      <td>15.010000</td>\n",
       "      <td>21.500000</td>\n",
       "      <td>3.656800</td>\n",
       "      <td>0.451200</td>\n",
       "      <td>1.000000</td>\n",
       "    </tr>\n",
       "    <tr>\n",
       "      <th>50%</th>\n",
       "      <td>41.281408</td>\n",
       "      <td>47.500000</td>\n",
       "      <td>7.403200</td>\n",
       "      <td>1.656800</td>\n",
       "      <td>2.000000</td>\n",
       "    </tr>\n",
       "    <tr>\n",
       "      <th>75%</th>\n",
       "      <td>67.510000</td>\n",
       "      <td>75.000000</td>\n",
       "      <td>11.480000</td>\n",
       "      <td>3.916800</td>\n",
       "      <td>2.000000</td>\n",
       "    </tr>\n",
       "    <tr>\n",
       "      <th>max</th>\n",
       "      <td>10000.000000</td>\n",
       "      <td>99999.990000</td>\n",
       "      <td>425.027200</td>\n",
       "      <td>128.027200</td>\n",
       "      <td>14.000000</td>\n",
       "    </tr>\n",
       "  </tbody>\n",
       "</table>\n",
       "</div>"
      ],
      "text/plain": [
       "       MINM_WGH_QTY   MAX_WGH_QTY  MINIMUM_COST         RATE  TPT_DAY_CNT\n",
       "count   1537.000000   1537.000000   1537.000000  1537.000000  1537.000000\n",
       "mean     156.190905   4635.433438     12.300002     2.875135     2.188679\n",
       "std      476.366708  20271.070359     22.959164     4.590475     2.002161\n",
       "min        0.000000      0.453592      1.202000     0.033200     0.000000\n",
       "25%       15.010000     21.500000      3.656800     0.451200     1.000000\n",
       "50%       41.281408     47.500000      7.403200     1.656800     2.000000\n",
       "75%       67.510000     75.000000     11.480000     3.916800     2.000000\n",
       "max    10000.000000  99999.990000    425.027200   128.027200    14.000000"
      ]
     },
     "execution_count": 102,
     "metadata": {},
     "output_type": "execute_result"
    }
   ],
   "source": [
    "df_dict['FreightRates'].describe()"
   ]
  },
  {
   "cell_type": "code",
   "execution_count": 103,
   "metadata": {},
   "outputs": [
    {
     "data": {
      "text/html": [
       "<div>\n",
       "<style scoped>\n",
       "    .dataframe tbody tr th:only-of-type {\n",
       "        vertical-align: middle;\n",
       "    }\n",
       "\n",
       "    .dataframe tbody tr th {\n",
       "        vertical-align: top;\n",
       "    }\n",
       "\n",
       "    .dataframe thead th {\n",
       "        text-align: right;\n",
       "    }\n",
       "</style>\n",
       "<table border=\"1\" class=\"dataframe\">\n",
       "  <thead>\n",
       "    <tr style=\"text-align: right;\">\n",
       "      <th></th>\n",
       "      <th>ORDER_ID</th>\n",
       "      <th>TPT</th>\n",
       "      <th>SHIP_AHEAD_DAY_COUNT</th>\n",
       "      <th>SHIP_LATE_DAY_COUNT</th>\n",
       "      <th>PRODUCT_ID</th>\n",
       "      <th>UNIT_QUANTITY</th>\n",
       "      <th>WEIGHT</th>\n",
       "      <th>MINM_WGH_QTY</th>\n",
       "      <th>MAX_WGH_QTY</th>\n",
       "      <th>MINIMUM_COST</th>\n",
       "      <th>RATE</th>\n",
       "      <th>TPT_DAY_CNT</th>\n",
       "      <th>COST_UNIT</th>\n",
       "      <th>COST</th>\n",
       "    </tr>\n",
       "  </thead>\n",
       "  <tbody>\n",
       "    <tr>\n",
       "      <th>ORDER_ID</th>\n",
       "      <td>1.00</td>\n",
       "      <td>0.01</td>\n",
       "      <td>-0.04</td>\n",
       "      <td>-0.05</td>\n",
       "      <td>0.07</td>\n",
       "      <td>0.02</td>\n",
       "      <td>0.02</td>\n",
       "      <td>-0.01</td>\n",
       "      <td>-0.01</td>\n",
       "      <td>0.01</td>\n",
       "      <td>0.01</td>\n",
       "      <td>-0.02</td>\n",
       "      <td>0.03</td>\n",
       "      <td>0.02</td>\n",
       "    </tr>\n",
       "    <tr>\n",
       "      <th>TPT</th>\n",
       "      <td>0.01</td>\n",
       "      <td>1.00</td>\n",
       "      <td>-0.11</td>\n",
       "      <td>0.05</td>\n",
       "      <td>-0.22</td>\n",
       "      <td>0.18</td>\n",
       "      <td>0.07</td>\n",
       "      <td>0.28</td>\n",
       "      <td>0.28</td>\n",
       "      <td>-0.40</td>\n",
       "      <td>-0.36</td>\n",
       "      <td>0.66</td>\n",
       "      <td>0.10</td>\n",
       "      <td>0.17</td>\n",
       "    </tr>\n",
       "    <tr>\n",
       "      <th>SHIP_AHEAD_DAY_COUNT</th>\n",
       "      <td>-0.04</td>\n",
       "      <td>-0.11</td>\n",
       "      <td>1.00</td>\n",
       "      <td>-0.03</td>\n",
       "      <td>0.06</td>\n",
       "      <td>-0.06</td>\n",
       "      <td>-0.02</td>\n",
       "      <td>-0.04</td>\n",
       "      <td>-0.04</td>\n",
       "      <td>0.06</td>\n",
       "      <td>0.05</td>\n",
       "      <td>-0.10</td>\n",
       "      <td>0.09</td>\n",
       "      <td>-0.06</td>\n",
       "    </tr>\n",
       "    <tr>\n",
       "      <th>SHIP_LATE_DAY_COUNT</th>\n",
       "      <td>-0.05</td>\n",
       "      <td>0.05</td>\n",
       "      <td>-0.03</td>\n",
       "      <td>1.00</td>\n",
       "      <td>-0.06</td>\n",
       "      <td>-0.02</td>\n",
       "      <td>-0.03</td>\n",
       "      <td>0.02</td>\n",
       "      <td>0.02</td>\n",
       "      <td>-0.02</td>\n",
       "      <td>-0.02</td>\n",
       "      <td>0.04</td>\n",
       "      <td>-0.02</td>\n",
       "      <td>-0.02</td>\n",
       "    </tr>\n",
       "    <tr>\n",
       "      <th>PRODUCT_ID</th>\n",
       "      <td>0.07</td>\n",
       "      <td>-0.22</td>\n",
       "      <td>0.06</td>\n",
       "      <td>-0.06</td>\n",
       "      <td>1.00</td>\n",
       "      <td>0.06</td>\n",
       "      <td>-0.08</td>\n",
       "      <td>-0.06</td>\n",
       "      <td>-0.06</td>\n",
       "      <td>0.08</td>\n",
       "      <td>0.08</td>\n",
       "      <td>-0.13</td>\n",
       "      <td>-0.11</td>\n",
       "      <td>0.06</td>\n",
       "    </tr>\n",
       "    <tr>\n",
       "      <th>UNIT_QUANTITY</th>\n",
       "      <td>0.02</td>\n",
       "      <td>0.18</td>\n",
       "      <td>-0.06</td>\n",
       "      <td>-0.02</td>\n",
       "      <td>0.06</td>\n",
       "      <td>1.00</td>\n",
       "      <td>0.31</td>\n",
       "      <td>0.04</td>\n",
       "      <td>0.04</td>\n",
       "      <td>-0.05</td>\n",
       "      <td>-0.04</td>\n",
       "      <td>0.09</td>\n",
       "      <td>-0.04</td>\n",
       "      <td>1.00</td>\n",
       "    </tr>\n",
       "    <tr>\n",
       "      <th>WEIGHT</th>\n",
       "      <td>0.02</td>\n",
       "      <td>0.07</td>\n",
       "      <td>-0.02</td>\n",
       "      <td>-0.03</td>\n",
       "      <td>-0.08</td>\n",
       "      <td>0.31</td>\n",
       "      <td>1.00</td>\n",
       "      <td>0.01</td>\n",
       "      <td>0.01</td>\n",
       "      <td>-0.02</td>\n",
       "      <td>-0.01</td>\n",
       "      <td>0.03</td>\n",
       "      <td>0.04</td>\n",
       "      <td>0.32</td>\n",
       "    </tr>\n",
       "    <tr>\n",
       "      <th>MINM_WGH_QTY</th>\n",
       "      <td>-0.01</td>\n",
       "      <td>0.28</td>\n",
       "      <td>-0.04</td>\n",
       "      <td>0.02</td>\n",
       "      <td>-0.06</td>\n",
       "      <td>0.04</td>\n",
       "      <td>0.01</td>\n",
       "      <td>1.00</td>\n",
       "      <td>0.94</td>\n",
       "      <td>0.16</td>\n",
       "      <td>-0.18</td>\n",
       "      <td>0.20</td>\n",
       "      <td>-0.02</td>\n",
       "      <td>0.03</td>\n",
       "    </tr>\n",
       "    <tr>\n",
       "      <th>MAX_WGH_QTY</th>\n",
       "      <td>-0.01</td>\n",
       "      <td>0.28</td>\n",
       "      <td>-0.04</td>\n",
       "      <td>0.02</td>\n",
       "      <td>-0.06</td>\n",
       "      <td>0.04</td>\n",
       "      <td>0.01</td>\n",
       "      <td>0.94</td>\n",
       "      <td>1.00</td>\n",
       "      <td>-0.08</td>\n",
       "      <td>-0.11</td>\n",
       "      <td>0.21</td>\n",
       "      <td>-0.02</td>\n",
       "      <td>0.03</td>\n",
       "    </tr>\n",
       "    <tr>\n",
       "      <th>MINIMUM_COST</th>\n",
       "      <td>0.01</td>\n",
       "      <td>-0.40</td>\n",
       "      <td>0.06</td>\n",
       "      <td>-0.02</td>\n",
       "      <td>0.08</td>\n",
       "      <td>-0.05</td>\n",
       "      <td>-0.02</td>\n",
       "      <td>0.16</td>\n",
       "      <td>-0.08</td>\n",
       "      <td>1.00</td>\n",
       "      <td>-0.05</td>\n",
       "      <td>-0.30</td>\n",
       "      <td>0.03</td>\n",
       "      <td>-0.05</td>\n",
       "    </tr>\n",
       "    <tr>\n",
       "      <th>RATE</th>\n",
       "      <td>0.01</td>\n",
       "      <td>-0.36</td>\n",
       "      <td>0.05</td>\n",
       "      <td>-0.02</td>\n",
       "      <td>0.08</td>\n",
       "      <td>-0.04</td>\n",
       "      <td>-0.01</td>\n",
       "      <td>-0.18</td>\n",
       "      <td>-0.11</td>\n",
       "      <td>-0.05</td>\n",
       "      <td>1.00</td>\n",
       "      <td>-0.27</td>\n",
       "      <td>0.44</td>\n",
       "      <td>-0.02</td>\n",
       "    </tr>\n",
       "    <tr>\n",
       "      <th>TPT_DAY_CNT</th>\n",
       "      <td>-0.02</td>\n",
       "      <td>0.66</td>\n",
       "      <td>-0.10</td>\n",
       "      <td>0.04</td>\n",
       "      <td>-0.13</td>\n",
       "      <td>0.09</td>\n",
       "      <td>0.03</td>\n",
       "      <td>0.20</td>\n",
       "      <td>0.21</td>\n",
       "      <td>-0.30</td>\n",
       "      <td>-0.27</td>\n",
       "      <td>1.00</td>\n",
       "      <td>-0.07</td>\n",
       "      <td>0.08</td>\n",
       "    </tr>\n",
       "    <tr>\n",
       "      <th>COST_UNIT</th>\n",
       "      <td>0.03</td>\n",
       "      <td>0.10</td>\n",
       "      <td>0.09</td>\n",
       "      <td>-0.02</td>\n",
       "      <td>-0.11</td>\n",
       "      <td>-0.04</td>\n",
       "      <td>0.04</td>\n",
       "      <td>-0.02</td>\n",
       "      <td>-0.02</td>\n",
       "      <td>0.03</td>\n",
       "      <td>0.44</td>\n",
       "      <td>-0.07</td>\n",
       "      <td>1.00</td>\n",
       "      <td>-0.03</td>\n",
       "    </tr>\n",
       "    <tr>\n",
       "      <th>COST</th>\n",
       "      <td>0.02</td>\n",
       "      <td>0.17</td>\n",
       "      <td>-0.06</td>\n",
       "      <td>-0.02</td>\n",
       "      <td>0.06</td>\n",
       "      <td>1.00</td>\n",
       "      <td>0.32</td>\n",
       "      <td>0.03</td>\n",
       "      <td>0.03</td>\n",
       "      <td>-0.05</td>\n",
       "      <td>-0.02</td>\n",
       "      <td>0.08</td>\n",
       "      <td>-0.03</td>\n",
       "      <td>1.00</td>\n",
       "    </tr>\n",
       "  </tbody>\n",
       "</table>\n",
       "</div>"
      ],
      "text/plain": [
       "                      ORDER_ID   TPT  SHIP_AHEAD_DAY_COUNT  \\\n",
       "ORDER_ID                  1.00  0.01                 -0.04   \n",
       "TPT                       0.01  1.00                 -0.11   \n",
       "SHIP_AHEAD_DAY_COUNT     -0.04 -0.11                  1.00   \n",
       "SHIP_LATE_DAY_COUNT      -0.05  0.05                 -0.03   \n",
       "PRODUCT_ID                0.07 -0.22                  0.06   \n",
       "UNIT_QUANTITY             0.02  0.18                 -0.06   \n",
       "WEIGHT                    0.02  0.07                 -0.02   \n",
       "MINM_WGH_QTY             -0.01  0.28                 -0.04   \n",
       "MAX_WGH_QTY              -0.01  0.28                 -0.04   \n",
       "MINIMUM_COST              0.01 -0.40                  0.06   \n",
       "RATE                      0.01 -0.36                  0.05   \n",
       "TPT_DAY_CNT              -0.02  0.66                 -0.10   \n",
       "COST_UNIT                 0.03  0.10                  0.09   \n",
       "COST                      0.02  0.17                 -0.06   \n",
       "\n",
       "                      SHIP_LATE_DAY_COUNT  PRODUCT_ID  UNIT_QUANTITY  WEIGHT  \\\n",
       "ORDER_ID                            -0.05        0.07           0.02    0.02   \n",
       "TPT                                  0.05       -0.22           0.18    0.07   \n",
       "SHIP_AHEAD_DAY_COUNT                -0.03        0.06          -0.06   -0.02   \n",
       "SHIP_LATE_DAY_COUNT                  1.00       -0.06          -0.02   -0.03   \n",
       "PRODUCT_ID                          -0.06        1.00           0.06   -0.08   \n",
       "UNIT_QUANTITY                       -0.02        0.06           1.00    0.31   \n",
       "WEIGHT                              -0.03       -0.08           0.31    1.00   \n",
       "MINM_WGH_QTY                         0.02       -0.06           0.04    0.01   \n",
       "MAX_WGH_QTY                          0.02       -0.06           0.04    0.01   \n",
       "MINIMUM_COST                        -0.02        0.08          -0.05   -0.02   \n",
       "RATE                                -0.02        0.08          -0.04   -0.01   \n",
       "TPT_DAY_CNT                          0.04       -0.13           0.09    0.03   \n",
       "COST_UNIT                           -0.02       -0.11          -0.04    0.04   \n",
       "COST                                -0.02        0.06           1.00    0.32   \n",
       "\n",
       "                      MINM_WGH_QTY  MAX_WGH_QTY  MINIMUM_COST  RATE  \\\n",
       "ORDER_ID                     -0.01        -0.01          0.01  0.01   \n",
       "TPT                           0.28         0.28         -0.40 -0.36   \n",
       "SHIP_AHEAD_DAY_COUNT         -0.04        -0.04          0.06  0.05   \n",
       "SHIP_LATE_DAY_COUNT           0.02         0.02         -0.02 -0.02   \n",
       "PRODUCT_ID                   -0.06        -0.06          0.08  0.08   \n",
       "UNIT_QUANTITY                 0.04         0.04         -0.05 -0.04   \n",
       "WEIGHT                        0.01         0.01         -0.02 -0.01   \n",
       "MINM_WGH_QTY                  1.00         0.94          0.16 -0.18   \n",
       "MAX_WGH_QTY                   0.94         1.00         -0.08 -0.11   \n",
       "MINIMUM_COST                  0.16        -0.08          1.00 -0.05   \n",
       "RATE                         -0.18        -0.11         -0.05  1.00   \n",
       "TPT_DAY_CNT                   0.20         0.21         -0.30 -0.27   \n",
       "COST_UNIT                    -0.02        -0.02          0.03  0.44   \n",
       "COST                          0.03         0.03         -0.05 -0.02   \n",
       "\n",
       "                      TPT_DAY_CNT  COST_UNIT  COST  \n",
       "ORDER_ID                    -0.02       0.03  0.02  \n",
       "TPT                          0.66       0.10  0.17  \n",
       "SHIP_AHEAD_DAY_COUNT        -0.10       0.09 -0.06  \n",
       "SHIP_LATE_DAY_COUNT          0.04      -0.02 -0.02  \n",
       "PRODUCT_ID                  -0.13      -0.11  0.06  \n",
       "UNIT_QUANTITY                0.09      -0.04  1.00  \n",
       "WEIGHT                       0.03       0.04  0.32  \n",
       "MINM_WGH_QTY                 0.20      -0.02  0.03  \n",
       "MAX_WGH_QTY                  0.21      -0.02  0.03  \n",
       "MINIMUM_COST                -0.30       0.03 -0.05  \n",
       "RATE                        -0.27       0.44 -0.02  \n",
       "TPT_DAY_CNT                  1.00      -0.07  0.08  \n",
       "COST_UNIT                   -0.07       1.00 -0.03  \n",
       "COST                         0.08      -0.03  1.00  "
      ]
     },
     "execution_count": 103,
     "metadata": {},
     "output_type": "execute_result"
    }
   ],
   "source": [
    "correlation_matrix = df_dict['OrderList'].corr(numeric_only=True).round(2)\n",
    "correlation_matrix"
   ]
  },
  {
   "cell_type": "code",
   "execution_count": 104,
   "metadata": {},
   "outputs": [
    {
     "data": {
      "image/png": "[encoded data removed]",
      "text/plain": [
       "<Figure size 1000x600 with 2 Axes>"
      ]
     },
     "metadata": {},
     "output_type": "display_data"
    }
   ],
   "source": [
    "import matplotlib.pyplot as plt\n",
    "import seaborn as sns\n",
    "\n",
    "# plot correlation matrix\n",
    "plt.figure(figsize=(10, 6))\n",
    "sns.heatmap(correlation_matrix, annot=True, cmap='coolwarm')\n",
    "plt.title('Correlation Matrix')\n",
    "plt.show()"
   ]
  },
  {
   "cell_type": "code",
   "execution_count": 105,
   "metadata": {},
   "outputs": [
    {
     "name": "stdout",
     "output_type": "stream",
     "text": [
      "Pricing strategies: ['AIR   ' 'GROUND']\n",
      "Average price elasticity: 2.875135211279718\n",
      "Total historical revenue: 1950277514501.3625\n"
     ]
    }
   ],
   "source": [
    "# Pricing and Revenue Data\n",
    "pricing_strategy = df_dict['FreightRates']['MODE_DSC'].unique()\n",
    "price_elasticity = df_dict['FreightRates']['RATE'].mean()\n",
    "historical_revenue = df_dict['OrderList']['UNIT_QUANTITY'] * df_dict['OrderList']['COST']\n",
    "total_revenue = historical_revenue.sum()\n",
    "print(\"Pricing strategies:\", pricing_strategy)\n",
    "print(\"Average price elasticity:\", price_elasticity)\n",
    "print(\"Total historical revenue:\", total_revenue)"
   ]
  },
  {
   "cell_type": "code",
   "execution_count": 106,
   "metadata": {},
   "outputs": [
    {
     "data": {
      "image/png": "[encoded data removed]",
      "text/plain": [
       "<Figure size 1500x600 with 2 Axes>"
      ]
     },
     "metadata": {},
     "output_type": "display_data"
    }
   ],
   "source": [
    "# Create the figure and subplots\n",
    "fig, axes = plt.subplots(1, 2, figsize=(15, 6))\n",
    "\n",
    "# Bar plot of service levels (left subplot)\n",
    "sns.countplot(data=df_dict['OrderList'], x='SERVICE_LEVEL', ax=axes[0])\n",
    "axes[0].set_title('Distribution of Service Levels')\n",
    "axes[0].set_xlabel('Service Level')\n",
    "axes[0].set_ylabel('Count')\n",
    "\n",
    "# Box plot of daily capacities (right subplot)\n",
    "sns.boxplot(data=df_dict['WhCapacities'], y='DAILY_CAPACITY', ax=axes[1])\n",
    "axes[1].set_title('Distribution of Daily Capacities')\n",
    "axes[1].set_ylabel('Daily Capacity')\n",
    "\n",
    "# Adjust spacing between subplots\n",
    "plt.tight_layout()\n",
    "\n",
    "# Display the plot\n",
    "plt.show()"
   ]
  },
  {
   "cell_type": "code",
   "execution_count": 107,
   "metadata": {},
   "outputs": [
    {
     "data": {
      "image/png": "[encoded data removed]",
      "text/plain": [
       "<Figure size 1000x600 with 1 Axes>"
      ]
     },
     "metadata": {},
     "output_type": "display_data"
    }
   ],
   "source": [
    "# Scatter plot of weight vs. shipping cost\n",
    "plt.figure(figsize=(10, 6))\n",
    "sns.scatterplot(data=df_dict['OrderList'], x='WEIGHT', y='COST', hue='CARRIER')\n",
    "plt.title('Weight vs. Shipping Cost')\n",
    "plt.xlabel('Weight')\n",
    "plt.ylabel('Cost')\n",
    "plt.show()"
   ]
  },
  {
   "cell_type": "code",
   "execution_count": 108,
   "metadata": {},
   "outputs": [
    {
     "name": "stdout",
     "output_type": "stream",
     "text": [
      "Index(['PLANT_CODE', 'PRODUCT_ID'], dtype='object')\n"
     ]
    }
   ],
   "source": [
    "print(df_dict['ProductsPerPlant'].columns)\n"
   ]
  },
  {
   "cell_type": "code",
   "execution_count": 109,
   "metadata": {},
   "outputs": [
    {
     "data": {
      "text/html": [
       "<div>\n",
       "<style scoped>\n",
       "    .dataframe tbody tr th:only-of-type {\n",
       "        vertical-align: middle;\n",
       "    }\n",
       "\n",
       "    .dataframe tbody tr th {\n",
       "        vertical-align: top;\n",
       "    }\n",
       "\n",
       "    .dataframe thead th {\n",
       "        text-align: right;\n",
       "    }\n",
       "</style>\n",
       "<table border=\"1\" class=\"dataframe\">\n",
       "  <thead>\n",
       "    <tr style=\"text-align: right;\">\n",
       "      <th></th>\n",
       "      <th>PLANT_CODE</th>\n",
       "      <th>count</th>\n",
       "    </tr>\n",
       "  </thead>\n",
       "  <tbody>\n",
       "    <tr>\n",
       "      <th>0</th>\n",
       "      <td>PLANT03</td>\n",
       "      <td>781</td>\n",
       "    </tr>\n",
       "    <tr>\n",
       "      <th>1</th>\n",
       "      <td>PLANT01</td>\n",
       "      <td>220</td>\n",
       "    </tr>\n",
       "    <tr>\n",
       "      <th>2</th>\n",
       "      <td>PLANT13</td>\n",
       "      <td>150</td>\n",
       "    </tr>\n",
       "    <tr>\n",
       "      <th>3</th>\n",
       "      <td>PLANT04</td>\n",
       "      <td>134</td>\n",
       "    </tr>\n",
       "    <tr>\n",
       "      <th>4</th>\n",
       "      <td>PLANT05</td>\n",
       "      <td>127</td>\n",
       "    </tr>\n",
       "    <tr>\n",
       "      <th>5</th>\n",
       "      <td>PLANT10</td>\n",
       "      <td>121</td>\n",
       "    </tr>\n",
       "    <tr>\n",
       "      <th>6</th>\n",
       "      <td>PLANT02</td>\n",
       "      <td>116</td>\n",
       "    </tr>\n",
       "    <tr>\n",
       "      <th>7</th>\n",
       "      <td>PLANT16</td>\n",
       "      <td>113</td>\n",
       "    </tr>\n",
       "    <tr>\n",
       "      <th>8</th>\n",
       "      <td>PLANT11</td>\n",
       "      <td>96</td>\n",
       "    </tr>\n",
       "    <tr>\n",
       "      <th>9</th>\n",
       "      <td>PLANT12</td>\n",
       "      <td>57</td>\n",
       "    </tr>\n",
       "    <tr>\n",
       "      <th>10</th>\n",
       "      <td>PLANT07</td>\n",
       "      <td>29</td>\n",
       "    </tr>\n",
       "    <tr>\n",
       "      <th>11</th>\n",
       "      <td>PLANT06</td>\n",
       "      <td>26</td>\n",
       "    </tr>\n",
       "    <tr>\n",
       "      <th>12</th>\n",
       "      <td>PLANT08</td>\n",
       "      <td>21</td>\n",
       "    </tr>\n",
       "    <tr>\n",
       "      <th>13</th>\n",
       "      <td>PLANT17</td>\n",
       "      <td>20</td>\n",
       "    </tr>\n",
       "    <tr>\n",
       "      <th>14</th>\n",
       "      <td>PLANT18</td>\n",
       "      <td>12</td>\n",
       "    </tr>\n",
       "    <tr>\n",
       "      <th>15</th>\n",
       "      <td>PLANT09</td>\n",
       "      <td>8</td>\n",
       "    </tr>\n",
       "    <tr>\n",
       "      <th>16</th>\n",
       "      <td>PLANT14</td>\n",
       "      <td>3</td>\n",
       "    </tr>\n",
       "    <tr>\n",
       "      <th>17</th>\n",
       "      <td>PLANT15</td>\n",
       "      <td>1</td>\n",
       "    </tr>\n",
       "    <tr>\n",
       "      <th>18</th>\n",
       "      <td>CND9</td>\n",
       "      <td>1</td>\n",
       "    </tr>\n",
       "  </tbody>\n",
       "</table>\n",
       "</div>"
      ],
      "text/plain": [
       "   PLANT_CODE  count\n",
       "0     PLANT03    781\n",
       "1     PLANT01    220\n",
       "2     PLANT13    150\n",
       "3     PLANT04    134\n",
       "4     PLANT05    127\n",
       "5     PLANT10    121\n",
       "6     PLANT02    116\n",
       "7     PLANT16    113\n",
       "8     PLANT11     96\n",
       "9     PLANT12     57\n",
       "10    PLANT07     29\n",
       "11    PLANT06     26\n",
       "12    PLANT08     21\n",
       "13    PLANT17     20\n",
       "14    PLANT18     12\n",
       "15    PLANT09      8\n",
       "16    PLANT14      3\n",
       "17    PLANT15      1\n",
       "18       CND9      1"
      ]
     },
     "execution_count": 109,
     "metadata": {},
     "output_type": "execute_result"
    }
   ],
   "source": [
    "plant_counts = pd.DataFrame(df_dict['ProductsPerPlant']['PLANT_CODE'].value_counts())\n",
    "test = plant_counts.reset_index()\n",
    "test"
   ]
  },
  {
   "cell_type": "code",
   "execution_count": 110,
   "metadata": {},
   "outputs": [
    {
     "data": {
      "text/plain": [
       "0     PLANT03\n",
       "1     PLANT01\n",
       "2     PLANT13\n",
       "3     PLANT04\n",
       "4     PLANT05\n",
       "5     PLANT10\n",
       "6     PLANT02\n",
       "7     PLANT16\n",
       "8     PLANT11\n",
       "9     PLANT12\n",
       "10    PLANT07\n",
       "11    PLANT06\n",
       "12    PLANT08\n",
       "13    PLANT17\n",
       "14    PLANT18\n",
       "15    PLANT09\n",
       "16    PLANT14\n",
       "17    PLANT15\n",
       "18       CND9\n",
       "Name: PLANT_CODE, dtype: object"
      ]
     },
     "execution_count": 110,
     "metadata": {},
     "output_type": "execute_result"
    }
   ],
   "source": [
    "test['PLANT_CODE']"
   ]
  },
  {
   "cell_type": "code",
   "execution_count": 111,
   "metadata": {},
   "outputs": [
    {
     "data": {
      "text/plain": [
       "RangeIndex(start=0, stop=19, step=1)"
      ]
     },
     "execution_count": 111,
     "metadata": {},
     "output_type": "execute_result"
    }
   ],
   "source": [
    "test.index"
   ]
  },
  {
   "cell_type": "code",
   "execution_count": 112,
   "metadata": {},
   "outputs": [
    {
     "data": {
      "text/plain": [
       "Text(0.5, 1.0, 'Number of Products that each plant manufactures')"
      ]
     },
     "execution_count": 112,
     "metadata": {},
     "output_type": "execute_result"
    },
    {
     "data": {
      "image/png": "[encoded data removed]",
      "text/plain": [
       "<Figure size 1500x500 with 2 Axes>"
      ]
     },
     "metadata": {},
     "output_type": "display_data"
    }
   ],
   "source": [
    "fig, axes = plt.subplots(1, 2, figsize=(15, 5))\n",
    "\n",
    "# Plot Number of Products that each plant manufactures\n",
    "plt.sca(axes[0])\n",
    "plt.xticks(rotation=45)\n",
    "plant_counts = pd.DataFrame(df_dict['ProductsPerPlant']['PLANT_CODE'].value_counts())\n",
    "axes[0].bar(test['PLANT_CODE'], test['count'])\n",
    "axes[0].set_title(\"Number of Products that each plant manufactures\")"
   ]
  },
  {
   "cell_type": "code",
   "execution_count": 113,
   "metadata": {},
   "outputs": [],
   "source": [
    "test = df_dict['ProductsPerPlant']['PLANT_CODE'].value_counts()\n",
    "teste = test.reset_index()"
   ]
  },
  {
   "cell_type": "code",
   "execution_count": 114,
   "metadata": {},
   "outputs": [
    {
     "data": {
      "text/plain": [
       "0     781\n",
       "1     220\n",
       "2     150\n",
       "3     134\n",
       "4     127\n",
       "5     121\n",
       "6     116\n",
       "7     113\n",
       "8      96\n",
       "9      57\n",
       "10     29\n",
       "11     26\n",
       "12     21\n",
       "13     20\n",
       "14     12\n",
       "15      8\n",
       "16      3\n",
       "17      1\n",
       "18      1\n",
       "Name: count, dtype: int64"
      ]
     },
     "execution_count": 114,
     "metadata": {},
     "output_type": "execute_result"
    }
   ],
   "source": [
    "teste['count']"
   ]
  },
  {
   "cell_type": "code",
   "execution_count": 115,
   "metadata": {},
   "outputs": [],
   "source": [
    "# fig, axes = plt.subplots(1, 2, figsize=(15, 5))\n",
    "\n",
    "# # Plot Number of Products that each plant manufactures\n",
    "# plt.sca(axes[0])\n",
    "# plt.xticks(rotation=45)\n",
    "# plant_counts = pd.DataFrame(df_dict['ProductsPerPlant']['PLANT_CODE'].value_counts())\n",
    "# plant = plant_counts.reset_index()\n",
    "# axes[0].bar(test['PLANT_CODE'], test['count'])\n",
    "# axes[0].set_title(\"Number of Products that each plant manufactures\")\n",
    "\n",
    "# # Plot Manufacturing Cost for each Plant\n",
    "# plt.sca(axes[1])\n",
    "# plt.xticks(rotation=45)\n",
    "# axes[1].bar(df_dict['WhCosts']['WH'], df_dict['WhCosts'][\"COST_UNIT\"])\n",
    "# axes[1].set_title(\"Manufacturing Cost for each Plant\")\n",
    "\n",
    "# # Adjust spacing between subplots\n",
    "# plt.tight_layout()\n",
    "\n",
    "# # Show the plot\n",
    "# plt.show()"
   ]
  },
  {
   "cell_type": "code",
   "execution_count": 116,
   "metadata": {},
   "outputs": [
    {
     "data": {
      "application/vnd.plotly.v1+json": {
       "config": {
        "plotlyServerURL": "https://plot.ly"
       },
       "data": [
        {
         "hoverinfo": "text",
         "marker": {
          "line": {
           "color": "blue",
           "width": 2
          },
          "size": 10,
          "symbol": "circle"
         },
         "mode": "lines+markers",
         "text": "Plant: PLANT01<br>Port: PORT01",
         "type": "scatter",
         "x": [
          "PLANT01",
          "PORT01"
         ],
         "y": [
          1,
          0
         ]
        },
        {
         "hoverinfo": "text",
         "marker": {
          "line": {
           "color": "blue",
           "width": 2
          },
          "size": 10,
          "symbol": "circle"
         },
         "mode": "lines+markers",
         "text": "Plant: PLANT01<br>Port: PORT02",
         "type": "scatter",
         "x": [
          "PLANT01",
          "PORT02"
         ],
         "y": [
          1,
          0
         ]
        },
        {
         "hoverinfo": "text",
         "marker": {
          "line": {
           "color": "blue",
           "width": 2
          },
          "size": 10,
          "symbol": "circle"
         },
         "mode": "lines+markers",
         "text": "Plant: PLANT02<br>Port: PORT03",
         "type": "scatter",
         "x": [
          "PLANT02",
          "PORT03"
         ],
         "y": [
          1,
          0
         ]
        },
        {
         "hoverinfo": "text",
         "marker": {
          "line": {
           "color": "blue",
           "width": 2
          },
          "size": 10,
          "symbol": "circle"
         },
         "mode": "lines+markers",
         "text": "Plant: PLANT03<br>Port: PORT04",
         "type": "scatter",
         "x": [
          "PLANT03",
          "PORT04"
         ],
         "y": [
          1,
          0
         ]
        },
        {
         "hoverinfo": "text",
         "marker": {
          "line": {
           "color": "blue",
           "width": 2
          },
          "size": 10,
          "symbol": "circle"
         },
         "mode": "lines+markers",
         "text": "Plant: PLANT04<br>Port: PORT05",
         "type": "scatter",
         "x": [
          "PLANT04",
          "PORT05"
         ],
         "y": [
          1,
          0
         ]
        },
        {
         "hoverinfo": "text",
         "marker": {
          "line": {
           "color": "blue",
           "width": 2
          },
          "size": 10,
          "symbol": "circle"
         },
         "mode": "lines+markers",
         "text": "Plant: PLANT05<br>Port: PORT06",
         "type": "scatter",
         "x": [
          "PLANT05",
          "PORT06"
         ],
         "y": [
          1,
          0
         ]
        },
        {
         "hoverinfo": "text",
         "marker": {
          "line": {
           "color": "blue",
           "width": 2
          },
          "size": 10,
          "symbol": "circle"
         },
         "mode": "lines+markers",
         "text": "Plant: PLANT06<br>Port: PORT06",
         "type": "scatter",
         "x": [
          "PLANT06",
          "PORT06"
         ],
         "y": [
          1,
          0
         ]
        },
        {
         "hoverinfo": "text",
         "marker": {
          "line": {
           "color": "blue",
           "width": 2
          },
          "size": 10,
          "symbol": "circle"
         },
         "mode": "lines+markers",
         "text": "Plant: PLANT07<br>Port: PORT01",
         "type": "scatter",
         "x": [
          "PLANT07",
          "PORT01"
         ],
         "y": [
          1,
          0
         ]
        },
        {
         "hoverinfo": "text",
         "marker": {
          "line": {
           "color": "blue",
           "width": 2
          },
          "size": 10,
          "symbol": "circle"
         },
         "mode": "lines+markers",
         "text": "Plant: PLANT07<br>Port: PORT02",
         "type": "scatter",
         "x": [
          "PLANT07",
          "PORT02"
         ],
         "y": [
          1,
          0
         ]
        },
        {
         "hoverinfo": "text",
         "marker": {
          "line": {
           "color": "blue",
           "width": 2
          },
          "size": 10,
          "symbol": "circle"
         },
         "mode": "lines+markers",
         "text": "Plant: PLANT08<br>Port: PORT04",
         "type": "scatter",
         "x": [
          "PLANT08",
          "PORT04"
         ],
         "y": [
          1,
          0
         ]
        },
        {
         "hoverinfo": "text",
         "marker": {
          "line": {
           "color": "blue",
           "width": 2
          },
          "size": 10,
          "symbol": "circle"
         },
         "mode": "lines+markers",
         "text": "Plant: PLANT09<br>Port: PORT04",
         "type": "scatter",
         "x": [
          "PLANT09",
          "PORT04"
         ],
         "y": [
          1,
          0
         ]
        },
        {
         "hoverinfo": "text",
         "marker": {
          "line": {
           "color": "blue",
           "width": 2
          },
          "size": 10,
          "symbol": "circle"
         },
         "mode": "lines+markers",
         "text": "Plant: PLANT10<br>Port: PORT01",
         "type": "scatter",
         "x": [
          "PLANT10",
          "PORT01"
         ],
         "y": [
          1,
          0
         ]
        },
        {
         "hoverinfo": "text",
         "marker": {
          "line": {
           "color": "blue",
           "width": 2
          },
          "size": 10,
          "symbol": "circle"
         },
         "mode": "lines+markers",
         "text": "Plant: PLANT10<br>Port: PORT02",
         "type": "scatter",
         "x": [
          "PLANT10",
          "PORT02"
         ],
         "y": [
          1,
          0
         ]
        },
        {
         "hoverinfo": "text",
         "marker": {
          "line": {
           "color": "blue",
           "width": 2
          },
          "size": 10,
          "symbol": "circle"
         },
         "mode": "lines+markers",
         "text": "Plant: PLANT11<br>Port: PORT04",
         "type": "scatter",
         "x": [
          "PLANT11",
          "PORT04"
         ],
         "y": [
          1,
          0
         ]
        },
        {
         "hoverinfo": "text",
         "marker": {
          "line": {
           "color": "blue",
           "width": 2
          },
          "size": 10,
          "symbol": "circle"
         },
         "mode": "lines+markers",
         "text": "Plant: PLANT12<br>Port: PORT04",
         "type": "scatter",
         "x": [
          "PLANT12",
          "PORT04"
         ],
         "y": [
          1,
          0
         ]
        },
        {
         "hoverinfo": "text",
         "marker": {
          "line": {
           "color": "blue",
           "width": 2
          },
          "size": 10,
          "symbol": "circle"
         },
         "mode": "lines+markers",
         "text": "Plant: PLANT13<br>Port: PORT04",
         "type": "scatter",
         "x": [
          "PLANT13",
          "PORT04"
         ],
         "y": [
          1,
          0
         ]
        },
        {
         "hoverinfo": "text",
         "marker": {
          "line": {
           "color": "blue",
           "width": 2
          },
          "size": 10,
          "symbol": "circle"
         },
         "mode": "lines+markers",
         "text": "Plant: PLANT14<br>Port: PORT07",
         "type": "scatter",
         "x": [
          "PLANT14",
          "PORT07"
         ],
         "y": [
          1,
          0
         ]
        },
        {
         "hoverinfo": "text",
         "marker": {
          "line": {
           "color": "blue",
           "width": 2
          },
          "size": 10,
          "symbol": "circle"
         },
         "mode": "lines+markers",
         "text": "Plant: PLANT15<br>Port: PORT08",
         "type": "scatter",
         "x": [
          "PLANT15",
          "PORT08"
         ],
         "y": [
          1,
          0
         ]
        },
        {
         "hoverinfo": "text",
         "marker": {
          "line": {
           "color": "blue",
           "width": 2
          },
          "size": 10,
          "symbol": "circle"
         },
         "mode": "lines+markers",
         "text": "Plant: PLANT16<br>Port: PORT09",
         "type": "scatter",
         "x": [
          "PLANT16",
          "PORT09"
         ],
         "y": [
          1,
          0
         ]
        },
        {
         "hoverinfo": "text",
         "marker": {
          "line": {
           "color": "blue",
           "width": 2
          },
          "size": 10,
          "symbol": "circle"
         },
         "mode": "lines+markers",
         "text": "Plant: PLANT17<br>Port: PORT10",
         "type": "scatter",
         "x": [
          "PLANT17",
          "PORT10"
         ],
         "y": [
          1,
          0
         ]
        },
        {
         "hoverinfo": "text",
         "marker": {
          "line": {
           "color": "blue",
           "width": 2
          },
          "size": 10,
          "symbol": "circle"
         },
         "mode": "lines+markers",
         "text": "Plant: PLANT18<br>Port: PORT11",
         "type": "scatter",
         "x": [
          "PLANT18",
          "PORT11"
         ],
         "y": [
          1,
          0
         ]
        },
        {
         "hoverinfo": "text",
         "marker": {
          "line": {
           "color": "blue",
           "width": 2
          },
          "size": 10,
          "symbol": "circle"
         },
         "mode": "lines+markers",
         "text": "Plant: PLANT19<br>Port: PORT04",
         "type": "scatter",
         "x": [
          "PLANT19",
          "PORT04"
         ],
         "y": [
          1,
          0
         ]
        }
       ],
       "layout": {
        "showlegend": false,
        "template": {
         "data": {
          "bar": [
           {
            "error_x": {
             "color": "#2a3f5f"
            },
            "error_y": {
             "color": "#2a3f5f"
            },
            "marker": {
             "line": {
              "color": "#E5ECF6",
              "width": 0.5
             },
             "pattern": {
              "fillmode": "overlay",
              "size": 10,
              "solidity": 0.2
             }
            },
            "type": "bar"
           }
          ],
          "barpolar": [
           {
            "marker": {
             "line": {
              "color": "#E5ECF6",
              "width": 0.5
             },
             "pattern": {
              "fillmode": "overlay",
              "size": 10,
              "solidity": 0.2
             }
            },
            "type": "barpolar"
           }
          ],
          "carpet": [
           {
            "aaxis": {
             "endlinecolor": "#2a3f5f",
             "gridcolor": "white",
             "linecolor": "white",
             "minorgridcolor": "white",
             "startlinecolor": "#2a3f5f"
            },
            "baxis": {
             "endlinecolor": "#2a3f5f",
             "gridcolor": "white",
             "linecolor": "white",
             "minorgridcolor": "white",
             "startlinecolor": "#2a3f5f"
            },
            "type": "carpet"
           }
          ],
          "choropleth": [
           {
            "colorbar": {
             "outlinewidth": 0,
             "ticks": ""
            },
            "type": "choropleth"
           }
          ],
          "contour": [
           {
            "colorbar": {
             "outlinewidth": 0,
             "ticks": ""
            },
            "colorscale": [
             [
              0,
              "#0d0887"
             ],
             [
              0.1111111111111111,
              "#46039f"
             ],
             [
              0.2222222222222222,
              "#7201a8"
             ],
             [
              0.3333333333333333,
              "#9c179e"
             ],
             [
              0.4444444444444444,
              "#bd3786"
             ],
             [
              0.5555555555555556,
              "#d8576b"
             ],
             [
              0.6666666666666666,
              "#ed7953"
             ],
             [
              0.7777777777777778,
              "#fb9f3a"
             ],
             [
              0.8888888888888888,
              "#fdca26"
             ],
             [
              1,
              "#f0f921"
             ]
            ],
            "type": "contour"
           }
          ],
          "contourcarpet": [
           {
            "colorbar": {
             "outlinewidth": 0,
             "ticks": ""
            },
            "type": "contourcarpet"
           }
          ],
          "heatmap": [
           {
            "colorbar": {
             "outlinewidth": 0,
             "ticks": ""
            },
            "colorscale": [
             [
              0,
              "#0d0887"
             ],
             [
              0.1111111111111111,
              "#46039f"
             ],
             [
              0.2222222222222222,
              "#7201a8"
             ],
             [
              0.3333333333333333,
              "#9c179e"
             ],
             [
              0.4444444444444444,
              "#bd3786"
             ],
             [
              0.5555555555555556,
              "#d8576b"
             ],
             [
              0.6666666666666666,
              "#ed7953"
             ],
             [
              0.7777777777777778,
              "#fb9f3a"
             ],
             [
              0.8888888888888888,
              "#fdca26"
             ],
             [
              1,
              "#f0f921"
             ]
            ],
            "type": "heatmap"
           }
          ],
          "heatmapgl": [
           {
            "colorbar": {
             "outlinewidth": 0,
             "ticks": ""
            },
            "colorscale": [
             [
              0,
              "#0d0887"
             ],
             [
              0.1111111111111111,
              "#46039f"
             ],
             [
              0.2222222222222222,
              "#7201a8"
             ],
             [
              0.3333333333333333,
              "#9c179e"
             ],
             [
              0.4444444444444444,
              "#bd3786"
             ],
             [
              0.5555555555555556,
              "#d8576b"
             ],
             [
              0.6666666666666666,
              "#ed7953"
             ],
             [
              0.7777777777777778,
              "#fb9f3a"
             ],
             [
              0.8888888888888888,
              "#fdca26"
             ],
             [
              1,
              "#f0f921"
             ]
            ],
            "type": "heatmapgl"
           }
          ],
          "histogram": [
           {
            "marker": {
             "pattern": {
              "fillmode": "overlay",
              "size": 10,
              "solidity": 0.2
             }
            },
            "type": "histogram"
           }
          ],
          "histogram2d": [
           {
            "colorbar": {
             "outlinewidth": 0,
             "ticks": ""
            },
            "colorscale": [
             [
              0,
              "#0d0887"
             ],
             [
              0.1111111111111111,
              "#46039f"
             ],
             [
              0.2222222222222222,
              "#7201a8"
             ],
             [
              0.3333333333333333,
              "#9c179e"
             ],
             [
              0.4444444444444444,
              "#bd3786"
             ],
             [
              0.5555555555555556,
              "#d8576b"
             ],
             [
              0.6666666666666666,
              "#ed7953"
             ],
             [
              0.7777777777777778,
              "#fb9f3a"
             ],
             [
              0.8888888888888888,
              "#fdca26"
             ],
             [
              1,
              "#f0f921"
             ]
            ],
            "type": "histogram2d"
           }
          ],
          "histogram2dcontour": [
           {
            "colorbar": {
             "outlinewidth": 0,
             "ticks": ""
            },
            "colorscale": [
             [
              0,
              "#0d0887"
             ],
             [
              0.1111111111111111,
              "#46039f"
             ],
             [
              0.2222222222222222,
              "#7201a8"
             ],
             [
              0.3333333333333333,
              "#9c179e"
             ],
             [
              0.4444444444444444,
              "#bd3786"
             ],
             [
              0.5555555555555556,
              "#d8576b"
             ],
             [
              0.6666666666666666,
              "#ed7953"
             ],
             [
              0.7777777777777778,
              "#fb9f3a"
             ],
             [
              0.8888888888888888,
              "#fdca26"
             ],
             [
              1,
              "#f0f921"
             ]
            ],
            "type": "histogram2dcontour"
           }
          ],
          "mesh3d": [
           {
            "colorbar": {
             "outlinewidth": 0,
             "ticks": ""
            },
            "type": "mesh3d"
           }
          ],
          "parcoords": [
           {
            "line": {
             "colorbar": {
              "outlinewidth": 0,
              "ticks": ""
             }
            },
            "type": "parcoords"
           }
          ],
          "pie": [
           {
            "automargin": true,
            "type": "pie"
           }
          ],
          "scatter": [
           {
            "fillpattern": {
             "fillmode": "overlay",
             "size": 10,
             "solidity": 0.2
            },
            "type": "scatter"
           }
          ],
          "scatter3d": [
           {
            "line": {
             "colorbar": {
              "outlinewidth": 0,
              "ticks": ""
             }
            },
            "marker": {
             "colorbar": {
              "outlinewidth": 0,
              "ticks": ""
             }
            },
            "type": "scatter3d"
           }
          ],
          "scattercarpet": [
           {
            "marker": {
             "colorbar": {
              "outlinewidth": 0,
              "ticks": ""
             }
            },
            "type": "scattercarpet"
           }
          ],
          "scattergeo": [
           {
            "marker": {
             "colorbar": {
              "outlinewidth": 0,
              "ticks": ""
             }
            },
            "type": "scattergeo"
           }
          ],
          "scattergl": [
           {
            "marker": {
             "colorbar": {
              "outlinewidth": 0,
              "ticks": ""
             }
            },
            "type": "scattergl"
           }
          ],
          "scattermapbox": [
           {
            "marker": {
             "colorbar": {
              "outlinewidth": 0,
              "ticks": ""
             }
            },
            "type": "scattermapbox"
           }
          ],
          "scatterpolar": [
           {
            "marker": {
             "colorbar": {
              "outlinewidth": 0,
              "ticks": ""
             }
            },
            "type": "scatterpolar"
           }
          ],
          "scatterpolargl": [
           {
            "marker": {
             "colorbar": {
              "outlinewidth": 0,
              "ticks": ""
             }
            },
            "type": "scatterpolargl"
           }
          ],
          "scatterternary": [
           {
            "marker": {
             "colorbar": {
              "outlinewidth": 0,
              "ticks": ""
             }
            },
            "type": "scatterternary"
           }
          ],
          "surface": [
           {
            "colorbar": {
             "outlinewidth": 0,
             "ticks": ""
            },
            "colorscale": [
             [
              0,
              "#0d0887"
             ],
             [
              0.1111111111111111,
              "#46039f"
             ],
             [
              0.2222222222222222,
              "#7201a8"
             ],
             [
              0.3333333333333333,
              "#9c179e"
             ],
             [
              0.4444444444444444,
              "#bd3786"
             ],
             [
              0.5555555555555556,
              "#d8576b"
             ],
             [
              0.6666666666666666,
              "#ed7953"
             ],
             [
              0.7777777777777778,
              "#fb9f3a"
             ],
             [
              0.8888888888888888,
              "#fdca26"
             ],
             [
              1,
              "#f0f921"
             ]
            ],
            "type": "surface"
           }
          ],
          "table": [
           {
            "cells": {
             "fill": {
              "color": "#EBF0F8"
             },
             "line": {
              "color": "white"
             }
            },
            "header": {
             "fill": {
              "color": "#C8D4E3"
             },
             "line": {
              "color": "white"
             }
            },
            "type": "table"
           }
          ]
         },
         "layout": {
          "annotationdefaults": {
           "arrowcolor": "#2a3f5f",
           "arrowhead": 0,
           "arrowwidth": 1
          },
          "autotypenumbers": "strict",
          "coloraxis": {
           "colorbar": {
            "outlinewidth": 0,
            "ticks": ""
           }
          },
          "colorscale": {
           "diverging": [
            [
             0,
             "#8e0152"
            ],
            [
             0.1,
             "#c51b7d"
            ],
            [
             0.2,
             "#de77ae"
            ],
            [
             0.3,
             "#f1b6da"
            ],
            [
             0.4,
             "#fde0ef"
            ],
            [
             0.5,
             "#f7f7f7"
            ],
            [
             0.6,
             "#e6f5d0"
            ],
            [
             0.7,
             "#b8e186"
            ],
            [
             0.8,
             "#7fbc41"
            ],
            [
             0.9,
             "#4d9221"
            ],
            [
             1,
             "#276419"
            ]
           ],
           "sequential": [
            [
             0,
             "#0d0887"
            ],
            [
             0.1111111111111111,
             "#46039f"
            ],
            [
             0.2222222222222222,
             "#7201a8"
            ],
            [
             0.3333333333333333,
             "#9c179e"
            ],
            [
             0.4444444444444444,
             "#bd3786"
            ],
            [
             0.5555555555555556,
             "#d8576b"
            ],
            [
             0.6666666666666666,
             "#ed7953"
            ],
            [
             0.7777777777777778,
             "#fb9f3a"
            ],
            [
             0.8888888888888888,
             "#fdca26"
            ],
            [
             1,
             "#f0f921"
            ]
           ],
           "sequentialminus": [
            [
             0,
             "#0d0887"
            ],
            [
             0.1111111111111111,
             "#46039f"
            ],
            [
             0.2222222222222222,
             "#7201a8"
            ],
            [
             0.3333333333333333,
             "#9c179e"
            ],
            [
             0.4444444444444444,
             "#bd3786"
            ],
            [
             0.5555555555555556,
             "#d8576b"
            ],
            [
             0.6666666666666666,
             "#ed7953"
            ],
            [
             0.7777777777777778,
             "#fb9f3a"
            ],
            [
             0.8888888888888888,
             "#fdca26"
            ],
            [
             1,
             "#f0f921"
            ]
           ]
          },
          "colorway": [
           "#636efa",
           "#EF553B",
           "#00cc96",
           "#ab63fa",
           "#FFA15A",
           "#19d3f3",
           "#FF6692",
           "#B6E880",
           "#FF97FF",
           "#FECB52"
          ],
          "font": {
           "color": "#2a3f5f"
          },
          "geo": {
           "bgcolor": "white",
           "lakecolor": "white",
           "landcolor": "#E5ECF6",
           "showlakes": true,
           "showland": true,
           "subunitcolor": "white"
          },
          "hoverlabel": {
           "align": "left"
          },
          "hovermode": "closest",
          "mapbox": {
           "style": "light"
          },
          "paper_bgcolor": "white",
          "plot_bgcolor": "#E5ECF6",
          "polar": {
           "angularaxis": {
            "gridcolor": "white",
            "linecolor": "white",
            "ticks": ""
           },
           "bgcolor": "#E5ECF6",
           "radialaxis": {
            "gridcolor": "white",
            "linecolor": "white",
            "ticks": ""
           }
          },
          "scene": {
           "xaxis": {
            "backgroundcolor": "#E5ECF6",
            "gridcolor": "white",
            "gridwidth": 2,
            "linecolor": "white",
            "showbackground": true,
            "ticks": "",
            "zerolinecolor": "white"
           },
           "yaxis": {
            "backgroundcolor": "#E5ECF6",
            "gridcolor": "white",
            "gridwidth": 2,
            "linecolor": "white",
            "showbackground": true,
            "ticks": "",
            "zerolinecolor": "white"
           },
           "zaxis": {
            "backgroundcolor": "#E5ECF6",
            "gridcolor": "white",
            "gridwidth": 2,
            "linecolor": "white",
            "showbackground": true,
            "ticks": "",
            "zerolinecolor": "white"
           }
          },
          "shapedefaults": {
           "line": {
            "color": "#2a3f5f"
           }
          },
          "ternary": {
           "aaxis": {
            "gridcolor": "white",
            "linecolor": "white",
            "ticks": ""
           },
           "baxis": {
            "gridcolor": "white",
            "linecolor": "white",
            "ticks": ""
           },
           "bgcolor": "#E5ECF6",
           "caxis": {
            "gridcolor": "white",
            "linecolor": "white",
            "ticks": ""
           }
          },
          "title": {
           "x": 0.05
          },
          "xaxis": {
           "automargin": true,
           "gridcolor": "white",
           "linecolor": "white",
           "ticks": "",
           "title": {
            "standoff": 15
           },
           "zerolinecolor": "white",
           "zerolinewidth": 2
          },
          "yaxis": {
           "automargin": true,
           "gridcolor": "white",
           "linecolor": "white",
           "ticks": "",
           "title": {
            "standoff": 15
           },
           "zerolinecolor": "white",
           "zerolinewidth": 2
          }
         }
        },
        "title": {
         "text": "Plant and Port Connections"
        },
        "xaxis": {
         "tickangle": -45,
         "title": {
          "text": "PLANT_CODE - PORT"
         }
        },
        "yaxis": {
         "range": [
          -0.2,
          1.2
         ],
         "showticklabels": false,
         "title": {
          "text": ""
         }
        }
       }
      },
      "text/html": [
       "<div>                            <div id=\"5d651e75-7c81-4557-a123-40071bcb5037\" class=\"plotly-graph-div\" style=\"height:525px; width:100%;\"></div>            <script type=\"text/javascript\">                require([\"plotly\"], function(Plotly) {                    window.PLOTLYENV=window.PLOTLYENV || {};                                    if (document.getElementById(\"5d651e75-7c81-4557-a123-40071bcb5037\")) {                    Plotly.newPlot(                        \"5d651e75-7c81-4557-a123-40071bcb5037\",                        [{\"hoverinfo\":\"text\",\"marker\":{\"line\":{\"color\":\"blue\",\"width\":2},\"size\":10,\"symbol\":\"circle\"},\"mode\":\"lines+markers\",\"text\":\"Plant: PLANT01<br>Port: PORT01\",\"x\":[\"PLANT01\",\"PORT01\"],\"y\":[1,0],\"type\":\"scatter\"},{\"hoverinfo\":\"text\",\"marker\":{\"line\":{\"color\":\"blue\",\"width\":2},\"size\":10,\"symbol\":\"circle\"},\"mode\":\"lines+markers\",\"text\":\"Plant: PLANT01<br>Port: PORT02\",\"x\":[\"PLANT01\",\"PORT02\"],\"y\":[1,0],\"type\":\"scatter\"},{\"hoverinfo\":\"text\",\"marker\":{\"line\":{\"color\":\"blue\",\"width\":2},\"size\":10,\"symbol\":\"circle\"},\"mode\":\"lines+markers\",\"text\":\"Plant: PLANT02<br>Port: PORT03\",\"x\":[\"PLANT02\",\"PORT03\"],\"y\":[1,0],\"type\":\"scatter\"},{\"hoverinfo\":\"text\",\"marker\":{\"line\":{\"color\":\"blue\",\"width\":2},\"size\":10,\"symbol\":\"circle\"},\"mode\":\"lines+markers\",\"text\":\"Plant: PLANT03<br>Port: PORT04\",\"x\":[\"PLANT03\",\"PORT04\"],\"y\":[1,0],\"type\":\"scatter\"},{\"hoverinfo\":\"text\",\"marker\":{\"line\":{\"color\":\"blue\",\"width\":2},\"size\":10,\"symbol\":\"circle\"},\"mode\":\"lines+markers\",\"text\":\"Plant: PLANT04<br>Port: PORT05\",\"x\":[\"PLANT04\",\"PORT05\"],\"y\":[1,0],\"type\":\"scatter\"},{\"hoverinfo\":\"text\",\"marker\":{\"line\":{\"color\":\"blue\",\"width\":2},\"size\":10,\"symbol\":\"circle\"},\"mode\":\"lines+markers\",\"text\":\"Plant: PLANT05<br>Port: PORT06\",\"x\":[\"PLANT05\",\"PORT06\"],\"y\":[1,0],\"type\":\"scatter\"},{\"hoverinfo\":\"text\",\"marker\":{\"line\":{\"color\":\"blue\",\"width\":2},\"size\":10,\"symbol\":\"circle\"},\"mode\":\"lines+markers\",\"text\":\"Plant: PLANT06<br>Port: PORT06\",\"x\":[\"PLANT06\",\"PORT06\"],\"y\":[1,0],\"type\":\"scatter\"},{\"hoverinfo\":\"text\",\"marker\":{\"line\":{\"color\":\"blue\",\"width\":2},\"size\":10,\"symbol\":\"circle\"},\"mode\":\"lines+markers\",\"text\":\"Plant: PLANT07<br>Port: PORT01\",\"x\":[\"PLANT07\",\"PORT01\"],\"y\":[1,0],\"type\":\"scatter\"},{\"hoverinfo\":\"text\",\"marker\":{\"line\":{\"color\":\"blue\",\"width\":2},\"size\":10,\"symbol\":\"circle\"},\"mode\":\"lines+markers\",\"text\":\"Plant: PLANT07<br>Port: PORT02\",\"x\":[\"PLANT07\",\"PORT02\"],\"y\":[1,0],\"type\":\"scatter\"},{\"hoverinfo\":\"text\",\"marker\":{\"line\":{\"color\":\"blue\",\"width\":2},\"size\":10,\"symbol\":\"circle\"},\"mode\":\"lines+markers\",\"text\":\"Plant: PLANT08<br>Port: PORT04\",\"x\":[\"PLANT08\",\"PORT04\"],\"y\":[1,0],\"type\":\"scatter\"},{\"hoverinfo\":\"text\",\"marker\":{\"line\":{\"color\":\"blue\",\"width\":2},\"size\":10,\"symbol\":\"circle\"},\"mode\":\"lines+markers\",\"text\":\"Plant: PLANT09<br>Port: PORT04\",\"x\":[\"PLANT09\",\"PORT04\"],\"y\":[1,0],\"type\":\"scatter\"},{\"hoverinfo\":\"text\",\"marker\":{\"line\":{\"color\":\"blue\",\"width\":2},\"size\":10,\"symbol\":\"circle\"},\"mode\":\"lines+markers\",\"text\":\"Plant: PLANT10<br>Port: PORT01\",\"x\":[\"PLANT10\",\"PORT01\"],\"y\":[1,0],\"type\":\"scatter\"},{\"hoverinfo\":\"text\",\"marker\":{\"line\":{\"color\":\"blue\",\"width\":2},\"size\":10,\"symbol\":\"circle\"},\"mode\":\"lines+markers\",\"text\":\"Plant: PLANT10<br>Port: PORT02\",\"x\":[\"PLANT10\",\"PORT02\"],\"y\":[1,0],\"type\":\"scatter\"},{\"hoverinfo\":\"text\",\"marker\":{\"line\":{\"color\":\"blue\",\"width\":2},\"size\":10,\"symbol\":\"circle\"},\"mode\":\"lines+markers\",\"text\":\"Plant: PLANT11<br>Port: PORT04\",\"x\":[\"PLANT11\",\"PORT04\"],\"y\":[1,0],\"type\":\"scatter\"},{\"hoverinfo\":\"text\",\"marker\":{\"line\":{\"color\":\"blue\",\"width\":2},\"size\":10,\"symbol\":\"circle\"},\"mode\":\"lines+markers\",\"text\":\"Plant: PLANT12<br>Port: PORT04\",\"x\":[\"PLANT12\",\"PORT04\"],\"y\":[1,0],\"type\":\"scatter\"},{\"hoverinfo\":\"text\",\"marker\":{\"line\":{\"color\":\"blue\",\"width\":2},\"size\":10,\"symbol\":\"circle\"},\"mode\":\"lines+markers\",\"text\":\"Plant: PLANT13<br>Port: PORT04\",\"x\":[\"PLANT13\",\"PORT04\"],\"y\":[1,0],\"type\":\"scatter\"},{\"hoverinfo\":\"text\",\"marker\":{\"line\":{\"color\":\"blue\",\"width\":2},\"size\":10,\"symbol\":\"circle\"},\"mode\":\"lines+markers\",\"text\":\"Plant: PLANT14<br>Port: PORT07\",\"x\":[\"PLANT14\",\"PORT07\"],\"y\":[1,0],\"type\":\"scatter\"},{\"hoverinfo\":\"text\",\"marker\":{\"line\":{\"color\":\"blue\",\"width\":2},\"size\":10,\"symbol\":\"circle\"},\"mode\":\"lines+markers\",\"text\":\"Plant: PLANT15<br>Port: PORT08\",\"x\":[\"PLANT15\",\"PORT08\"],\"y\":[1,0],\"type\":\"scatter\"},{\"hoverinfo\":\"text\",\"marker\":{\"line\":{\"color\":\"blue\",\"width\":2},\"size\":10,\"symbol\":\"circle\"},\"mode\":\"lines+markers\",\"text\":\"Plant: PLANT16<br>Port: PORT09\",\"x\":[\"PLANT16\",\"PORT09\"],\"y\":[1,0],\"type\":\"scatter\"},{\"hoverinfo\":\"text\",\"marker\":{\"line\":{\"color\":\"blue\",\"width\":2},\"size\":10,\"symbol\":\"circle\"},\"mode\":\"lines+markers\",\"text\":\"Plant: PLANT17<br>Port: PORT10\",\"x\":[\"PLANT17\",\"PORT10\"],\"y\":[1,0],\"type\":\"scatter\"},{\"hoverinfo\":\"text\",\"marker\":{\"line\":{\"color\":\"blue\",\"width\":2},\"size\":10,\"symbol\":\"circle\"},\"mode\":\"lines+markers\",\"text\":\"Plant: PLANT18<br>Port: PORT11\",\"x\":[\"PLANT18\",\"PORT11\"],\"y\":[1,0],\"type\":\"scatter\"},{\"hoverinfo\":\"text\",\"marker\":{\"line\":{\"color\":\"blue\",\"width\":2},\"size\":10,\"symbol\":\"circle\"},\"mode\":\"lines+markers\",\"text\":\"Plant: PLANT19<br>Port: PORT04\",\"x\":[\"PLANT19\",\"PORT04\"],\"y\":[1,0],\"type\":\"scatter\"}],                        {\"template\":{\"data\":{\"histogram2dcontour\":[{\"type\":\"histogram2dcontour\",\"colorbar\":{\"outlinewidth\":0,\"ticks\":\"\"},\"colorscale\":[[0.0,\"#0d0887\"],[0.1111111111111111,\"#46039f\"],[0.2222222222222222,\"#7201a8\"],[0.3333333333333333,\"#9c179e\"],[0.4444444444444444,\"#bd3786\"],[0.5555555555555556,\"#d8576b\"],[0.6666666666666666,\"#ed7953\"],[0.7777777777777778,\"#fb9f3a\"],[0.8888888888888888,\"#fdca26\"],[1.0,\"#f0f921\"]]}],\"choropleth\":[{\"type\":\"choropleth\",\"colorbar\":{\"outlinewidth\":0,\"ticks\":\"\"}}],\"histogram2d\":[{\"type\":\"histogram2d\",\"colorbar\":{\"outlinewidth\":0,\"ticks\":\"\"},\"colorscale\":[[0.0,\"#0d0887\"],[0.1111111111111111,\"#46039f\"],[0.2222222222222222,\"#7201a8\"],[0.3333333333333333,\"#9c179e\"],[0.4444444444444444,\"#bd3786\"],[0.5555555555555556,\"#d8576b\"],[0.6666666666666666,\"#ed7953\"],[0.7777777777777778,\"#fb9f3a\"],[0.8888888888888888,\"#fdca26\"],[1.0,\"#f0f921\"]]}],\"heatmap\":[{\"type\":\"heatmap\",\"colorbar\":{\"outlinewidth\":0,\"ticks\":\"\"},\"colorscale\":[[0.0,\"#0d0887\"],[0.1111111111111111,\"#46039f\"],[0.2222222222222222,\"#7201a8\"],[0.3333333333333333,\"#9c179e\"],[0.4444444444444444,\"#bd3786\"],[0.5555555555555556,\"#d8576b\"],[0.6666666666666666,\"#ed7953\"],[0.7777777777777778,\"#fb9f3a\"],[0.8888888888888888,\"#fdca26\"],[1.0,\"#f0f921\"]]}],\"heatmapgl\":[{\"type\":\"heatmapgl\",\"colorbar\":{\"outlinewidth\":0,\"ticks\":\"\"},\"colorscale\":[[0.0,\"#0d0887\"],[0.1111111111111111,\"#46039f\"],[0.2222222222222222,\"#7201a8\"],[0.3333333333333333,\"#9c179e\"],[0.4444444444444444,\"#bd3786\"],[0.5555555555555556,\"#d8576b\"],[0.6666666666666666,\"#ed7953\"],[0.7777777777777778,\"#fb9f3a\"],[0.8888888888888888,\"#fdca26\"],[1.0,\"#f0f921\"]]}],\"contourcarpet\":[{\"type\":\"contourcarpet\",\"colorbar\":{\"outlinewidth\":0,\"ticks\":\"\"}}],\"contour\":[{\"type\":\"contour\",\"colorbar\":{\"outlinewidth\":0,\"ticks\":\"\"},\"colorscale\":[[0.0,\"#0d0887\"],[0.1111111111111111,\"#46039f\"],[0.2222222222222222,\"#7201a8\"],[0.3333333333333333,\"#9c179e\"],[0.4444444444444444,\"#bd3786\"],[0.5555555555555556,\"#d8576b\"],[0.6666666666666666,\"#ed7953\"],[0.7777777777777778,\"#fb9f3a\"],[0.8888888888888888,\"#fdca26\"],[1.0,\"#f0f921\"]]}],\"surface\":[{\"type\":\"surface\",\"colorbar\":{\"outlinewidth\":0,\"ticks\":\"\"},\"colorscale\":[[0.0,\"#0d0887\"],[0.1111111111111111,\"#46039f\"],[0.2222222222222222,\"#7201a8\"],[0.3333333333333333,\"#9c179e\"],[0.4444444444444444,\"#bd3786\"],[0.5555555555555556,\"#d8576b\"],[0.6666666666666666,\"#ed7953\"],[0.7777777777777778,\"#fb9f3a\"],[0.8888888888888888,\"#fdca26\"],[1.0,\"#f0f921\"]]}],\"mesh3d\":[{\"type\":\"mesh3d\",\"colorbar\":{\"outlinewidth\":0,\"ticks\":\"\"}}],\"scatter\":[{\"fillpattern\":{\"fillmode\":\"overlay\",\"size\":10,\"solidity\":0.2},\"type\":\"scatter\"}],\"parcoords\":[{\"type\":\"parcoords\",\"line\":{\"colorbar\":{\"outlinewidth\":0,\"ticks\":\"\"}}}],\"scatterpolargl\":[{\"type\":\"scatterpolargl\",\"marker\":{\"colorbar\":{\"outlinewidth\":0,\"ticks\":\"\"}}}],\"bar\":[{\"error_x\":{\"color\":\"#2a3f5f\"},\"error_y\":{\"color\":\"#2a3f5f\"},\"marker\":{\"line\":{\"color\":\"#E5ECF6\",\"width\":0.5},\"pattern\":{\"fillmode\":\"overlay\",\"size\":10,\"solidity\":0.2}},\"type\":\"bar\"}],\"scattergeo\":[{\"type\":\"scattergeo\",\"marker\":{\"colorbar\":{\"outlinewidth\":0,\"ticks\":\"\"}}}],\"scatterpolar\":[{\"type\":\"scatterpolar\",\"marker\":{\"colorbar\":{\"outlinewidth\":0,\"ticks\":\"\"}}}],\"histogram\":[{\"marker\":{\"pattern\":{\"fillmode\":\"overlay\",\"size\":10,\"solidity\":0.2}},\"type\":\"histogram\"}],\"scattergl\":[{\"type\":\"scattergl\",\"marker\":{\"colorbar\":{\"outlinewidth\":0,\"ticks\":\"\"}}}],\"scatter3d\":[{\"type\":\"scatter3d\",\"line\":{\"colorbar\":{\"outlinewidth\":0,\"ticks\":\"\"}},\"marker\":{\"colorbar\":{\"outlinewidth\":0,\"ticks\":\"\"}}}],\"scattermapbox\":[{\"type\":\"scattermapbox\",\"marker\":{\"colorbar\":{\"outlinewidth\":0,\"ticks\":\"\"}}}],\"scatterternary\":[{\"type\":\"scatterternary\",\"marker\":{\"colorbar\":{\"outlinewidth\":0,\"ticks\":\"\"}}}],\"scattercarpet\":[{\"type\":\"scattercarpet\",\"marker\":{\"colorbar\":{\"outlinewidth\":0,\"ticks\":\"\"}}}],\"carpet\":[{\"aaxis\":{\"endlinecolor\":\"#2a3f5f\",\"gridcolor\":\"white\",\"linecolor\":\"white\",\"minorgridcolor\":\"white\",\"startlinecolor\":\"#2a3f5f\"},\"baxis\":{\"endlinecolor\":\"#2a3f5f\",\"gridcolor\":\"white\",\"linecolor\":\"white\",\"minorgridcolor\":\"white\",\"startlinecolor\":\"#2a3f5f\"},\"type\":\"carpet\"}],\"table\":[{\"cells\":{\"fill\":{\"color\":\"#EBF0F8\"},\"line\":{\"color\":\"white\"}},\"header\":{\"fill\":{\"color\":\"#C8D4E3\"},\"line\":{\"color\":\"white\"}},\"type\":\"table\"}],\"barpolar\":[{\"marker\":{\"line\":{\"color\":\"#E5ECF6\",\"width\":0.5},\"pattern\":{\"fillmode\":\"overlay\",\"size\":10,\"solidity\":0.2}},\"type\":\"barpolar\"}],\"pie\":[{\"automargin\":true,\"type\":\"pie\"}]},\"layout\":{\"autotypenumbers\":\"strict\",\"colorway\":[\"#636efa\",\"#EF553B\",\"#00cc96\",\"#ab63fa\",\"#FFA15A\",\"#19d3f3\",\"#FF6692\",\"#B6E880\",\"#FF97FF\",\"#FECB52\"],\"font\":{\"color\":\"#2a3f5f\"},\"hovermode\":\"closest\",\"hoverlabel\":{\"align\":\"left\"},\"paper_bgcolor\":\"white\",\"plot_bgcolor\":\"#E5ECF6\",\"polar\":{\"bgcolor\":\"#E5ECF6\",\"angularaxis\":{\"gridcolor\":\"white\",\"linecolor\":\"white\",\"ticks\":\"\"},\"radialaxis\":{\"gridcolor\":\"white\",\"linecolor\":\"white\",\"ticks\":\"\"}},\"ternary\":{\"bgcolor\":\"#E5ECF6\",\"aaxis\":{\"gridcolor\":\"white\",\"linecolor\":\"white\",\"ticks\":\"\"},\"baxis\":{\"gridcolor\":\"white\",\"linecolor\":\"white\",\"ticks\":\"\"},\"caxis\":{\"gridcolor\":\"white\",\"linecolor\":\"white\",\"ticks\":\"\"}},\"coloraxis\":{\"colorbar\":{\"outlinewidth\":0,\"ticks\":\"\"}},\"colorscale\":{\"sequential\":[[0.0,\"#0d0887\"],[0.1111111111111111,\"#46039f\"],[0.2222222222222222,\"#7201a8\"],[0.3333333333333333,\"#9c179e\"],[0.4444444444444444,\"#bd3786\"],[0.5555555555555556,\"#d8576b\"],[0.6666666666666666,\"#ed7953\"],[0.7777777777777778,\"#fb9f3a\"],[0.8888888888888888,\"#fdca26\"],[1.0,\"#f0f921\"]],\"sequentialminus\":[[0.0,\"#0d0887\"],[0.1111111111111111,\"#46039f\"],[0.2222222222222222,\"#7201a8\"],[0.3333333333333333,\"#9c179e\"],[0.4444444444444444,\"#bd3786\"],[0.5555555555555556,\"#d8576b\"],[0.6666666666666666,\"#ed7953\"],[0.7777777777777778,\"#fb9f3a\"],[0.8888888888888888,\"#fdca26\"],[1.0,\"#f0f921\"]],\"diverging\":[[0,\"#8e0152\"],[0.1,\"#c51b7d\"],[0.2,\"#de77ae\"],[0.3,\"#f1b6da\"],[0.4,\"#fde0ef\"],[0.5,\"#f7f7f7\"],[0.6,\"#e6f5d0\"],[0.7,\"#b8e186\"],[0.8,\"#7fbc41\"],[0.9,\"#4d9221\"],[1,\"#276419\"]]},\"xaxis\":{\"gridcolor\":\"white\",\"linecolor\":\"white\",\"ticks\":\"\",\"title\":{\"standoff\":15},\"zerolinecolor\":\"white\",\"automargin\":true,\"zerolinewidth\":2},\"yaxis\":{\"gridcolor\":\"white\",\"linecolor\":\"white\",\"ticks\":\"\",\"title\":{\"standoff\":15},\"zerolinecolor\":\"white\",\"automargin\":true,\"zerolinewidth\":2},\"scene\":{\"xaxis\":{\"backgroundcolor\":\"#E5ECF6\",\"gridcolor\":\"white\",\"linecolor\":\"white\",\"showbackground\":true,\"ticks\":\"\",\"zerolinecolor\":\"white\",\"gridwidth\":2},\"yaxis\":{\"backgroundcolor\":\"#E5ECF6\",\"gridcolor\":\"white\",\"linecolor\":\"white\",\"showbackground\":true,\"ticks\":\"\",\"zerolinecolor\":\"white\",\"gridwidth\":2},\"zaxis\":{\"backgroundcolor\":\"#E5ECF6\",\"gridcolor\":\"white\",\"linecolor\":\"white\",\"showbackground\":true,\"ticks\":\"\",\"zerolinecolor\":\"white\",\"gridwidth\":2}},\"shapedefaults\":{\"line\":{\"color\":\"#2a3f5f\"}},\"annotationdefaults\":{\"arrowcolor\":\"#2a3f5f\",\"arrowhead\":0,\"arrowwidth\":1},\"geo\":{\"bgcolor\":\"white\",\"landcolor\":\"#E5ECF6\",\"subunitcolor\":\"white\",\"showland\":true,\"showlakes\":true,\"lakecolor\":\"white\"},\"title\":{\"x\":0.05},\"mapbox\":{\"style\":\"light\"}}},\"title\":{\"text\":\"Plant and Port Connections\"},\"xaxis\":{\"title\":{\"text\":\"PLANT_CODE - PORT\"},\"tickangle\":-45},\"yaxis\":{\"title\":{\"text\":\"\"},\"showticklabels\":false,\"range\":[-0.2,1.2]},\"showlegend\":false},                        {\"responsive\": true}                    ).then(function(){\n",
       "                            \n",
       "var gd = document.getElementById('5d651e75-7c81-4557-a123-40071bcb5037');\n",
       "var x = new MutationObserver(function (mutations, observer) {{\n",
       "        var display = window.getComputedStyle(gd).display;\n",
       "        if (!display || display === 'none') {{\n",
       "            console.log([gd, 'removed!']);\n",
       "            Plotly.purge(gd);\n",
       "            observer.disconnect();\n",
       "        }}\n",
       "}});\n",
       "\n",
       "// Listen for the removal of the full notebook cells\n",
       "var notebookContainer = gd.closest('#notebook-container');\n",
       "if (notebookContainer) {{\n",
       "    x.observe(notebookContainer, {childList: true});\n",
       "}}\n",
       "\n",
       "// Listen for the clearing of the current output cell\n",
       "var outputEl = gd.closest('.output');\n",
       "if (outputEl) {{\n",
       "    x.observe(outputEl, {childList: true});\n",
       "}}\n",
       "\n",
       "                        })                };                });            </script>        </div>"
      ]
     },
     "metadata": {},
     "output_type": "display_data"
    }
   ],
   "source": [
    "import plotly.graph_objects as go\n",
    "\n",
    "# Load the PlantPorts dataframe\n",
    "# Selecionou a aba plantport do dataset que diz quais são as conexões entre\n",
    "# as plantas e portos\n",
    "df_plant_ports = df_dict['PlantPorts']\n",
    "\n",
    "# Create the figure\n",
    "fig = go.Figure()\n",
    "\n",
    "# Add the connections as traces\n",
    "# para cada linha, foi feito dois X, onde o primeiro ele vale 1 e o segundo vale 0\n",
    "# esses pontos são conectados por uma linha (mode) e os marcadores são círculos\n",
    "for _, row in df_plant_ports.iterrows():\n",
    "    fig.add_trace(\n",
    "        go.Scatter(\n",
    "            x = [row['PLANT_CODE'], row['PORT']],\n",
    "            y = [1, 0],\n",
    "            mode = 'lines+markers',\n",
    "            marker = dict(\n",
    "                size = 10,\n",
    "                symbol = 'circle',\n",
    "                line = dict(\n",
    "                    color = 'blue',\n",
    "                    width = 2\n",
    "                )\n",
    "            ),\n",
    "            hoverinfo = 'text',\n",
    "            text = f\"Plant: {row['PLANT_CODE']}<br>Port: {row['PORT']}\",\n",
    "        )\n",
    "    )\n",
    "\n",
    "# Set up the layout\n",
    "fig.update_layout(\n",
    "    title_text = 'Plant and Port Connections',\n",
    "    showlegend = False,\n",
    "    xaxis = dict(\n",
    "        title = 'PLANT_CODE - PORT',\n",
    "        tickangle = -45\n",
    "    ),\n",
    "    yaxis = dict(\n",
    "        title = '',\n",
    "        showticklabels = False,\n",
    "        range = [-0.2, 1.2]\n",
    "    )\n",
    ")\n",
    "\n",
    "# Show the interactive plot\n",
    "fig.show()"
   ]
  },
  {
   "cell_type": "markdown",
   "metadata": {},
   "source": [
    "# V. Modeling"
   ]
  },
  {
   "cell_type": "code",
   "execution_count": 117,
   "metadata": {},
   "outputs": [
    {
     "data": {
      "text/plain": [
       "['PLANT15',\n",
       " 'PLANT17',\n",
       " 'PLANT18',\n",
       " 'PLANT05',\n",
       " 'PLANT02',\n",
       " 'PLANT01',\n",
       " 'PLANT06',\n",
       " 'PLANT10',\n",
       " 'PLANT07',\n",
       " 'PLANT14',\n",
       " 'PLANT16',\n",
       " 'PLANT12',\n",
       " 'PLANT11',\n",
       " 'PLANT09',\n",
       " 'PLANT03',\n",
       " 'PLANT13',\n",
       " 'PLANT19',\n",
       " 'PLANT08',\n",
       " 'PLANT04']"
      ]
     },
     "execution_count": 117,
     "metadata": {},
     "output_type": "execute_result"
    }
   ],
   "source": [
    "# Creates a list of all the supply nodes\n",
    "# Supply nodes é um local físico na logística (plantas, warehouses etc)\n",
    "supply_nodes = list(df_dict['WhCosts']['WH'])\n",
    "supply_nodes"
   ]
  },
  {
   "cell_type": "code",
   "execution_count": 118,
   "metadata": {},
   "outputs": [
    {
     "data": {
      "text/plain": [
       "{'PLANT15': 11,\n",
       " 'PLANT17': 8,\n",
       " 'PLANT18': 111,\n",
       " 'PLANT05': 385,\n",
       " 'PLANT02': 138,\n",
       " 'PLANT01': 1070,\n",
       " 'PLANT06': 49,\n",
       " 'PLANT10': 118,\n",
       " 'PLANT07': 265,\n",
       " 'PLANT14': 549,\n",
       " 'PLANT16': 457,\n",
       " 'PLANT12': 209,\n",
       " 'PLANT11': 332,\n",
       " 'PLANT09': 11,\n",
       " 'PLANT03': 1013,\n",
       " 'PLANT13': 490,\n",
       " 'PLANT19': 7,\n",
       " 'PLANT08': 14,\n",
       " 'PLANT04': 554}"
      ]
     },
     "execution_count": 118,
     "metadata": {},
     "output_type": "execute_result"
    }
   ],
   "source": [
    "# Creates a dictionary for the number of units of supply for each supply node\n",
    "# Soma as capacidades dentro da aba WhCapacities onde o PLANT ID é igual ao node dentro de supply node\n",
    "# Basicamente cria um dicionário com a aba WhCapacities\n",
    "supply_dict = {}\n",
    "for node in supply_nodes:\n",
    "    total_capacity = sum(df_dict['WhCapacities']['DAILY_CAPACITY'][df_dict['WhCapacities']['PLANT_ID'] == node])\n",
    "    supply_dict[node] = total_capacity\n",
    "\n",
    "supply_dict"
   ]
  },
  {
   "cell_type": "code",
   "execution_count": 119,
   "metadata": {},
   "outputs": [
    {
     "data": {
      "text/plain": [
       "{'PLANT15': 11,\n",
       " 'PLANT17': 8,\n",
       " 'PLANT18': 111,\n",
       " 'PLANT05': 385,\n",
       " 'PLANT02': 138,\n",
       " 'PLANT01': 1070,\n",
       " 'PLANT06': 49,\n",
       " 'PLANT10': 118,\n",
       " 'PLANT07': 265,\n",
       " 'PLANT14': 549,\n",
       " 'PLANT16': 457,\n",
       " 'PLANT12': 209,\n",
       " 'PLANT11': 332,\n",
       " 'PLANT09': 11,\n",
       " 'PLANT03': 1013,\n",
       " 'PLANT13': 490,\n",
       " 'PLANT19': 7,\n",
       " 'PLANT08': 14,\n",
       " 'PLANT04': 554}"
      ]
     },
     "execution_count": 119,
     "metadata": {},
     "output_type": "execute_result"
    }
   ],
   "source": [
    "# Alternative\n",
    "\n",
    "df_plant_capacities = df_dict['WhCapacities']\n",
    "df_plant_capacities\n",
    "\n",
    "log_dict = {}\n",
    "for plant in df_plant_capacities.iterrows():\n",
    "   log_dict[plant[1]['PLANT_ID']] = plant[1]['DAILY_CAPACITY']\n",
    "\n",
    "log_dict"
   ]
  },
  {
   "cell_type": "code",
   "execution_count": 120,
   "metadata": {},
   "outputs": [
    {
     "data": {
      "text/plain": [
       "['PORT09']"
      ]
     },
     "execution_count": 120,
     "metadata": {},
     "output_type": "execute_result"
    }
   ],
   "source": [
    "# Creates a list of all demand nodes\n",
    "#Baseado na tabela de ordens, identifica quais são os portos destinos\n",
    "demand_nodes = list(df_dict['OrderList']['DESTINATION_PORT'].unique())\n",
    "demand_nodes"
   ]
  },
  {
   "cell_type": "code",
   "execution_count": 121,
   "metadata": {},
   "outputs": [],
   "source": [
    "#para cada porto destino, identificar e somar o número de demandas\n",
    "demand_dict = {}\n",
    "for index, row in df_dict['OrderList'].iterrows():\n",
    "    dest_port = row['DESTINATION_PORT']\n",
    "    unit_quantity = row['UNIT_QUANTITY']\n",
    "    if dest_port in demand_dict:\n",
    "        demand_dict[dest_port] += unit_quantity\n",
    "    else:\n",
    "        demand_dict[dest_port] = unit_quantity"
   ]
  },
  {
   "cell_type": "code",
   "execution_count": 122,
   "metadata": {},
   "outputs": [
    {
     "data": {
      "text/plain": [
       "{'PORT09': 55063704}"
      ]
     },
     "execution_count": 122,
     "metadata": {},
     "output_type": "execute_result"
    }
   ],
   "source": [
    "#quantidade total de unidades demandadas pelos portos.\n",
    "demand_dict"
   ]
  },
  {
   "cell_type": "code",
   "execution_count": 123,
   "metadata": {},
   "outputs": [],
   "source": [
    "# Creates a dictionary for the number of units of supply for each supply node\n",
    "supply_dict = {}\n",
    "for node in supply_nodes:\n",
    "    total_capacity = sum(df_dict['WhCapacities']['DAILY_CAPACITY'][df_dict['WhCapacities']['PLANT_ID'] == node])\n",
    "    supply_dict[node] = total_capacity\n",
    "\n",
    "# Creates a list of all demand nodes\n",
    "demand_nodes = list(df_dict['OrderList']['DESTINATION_PORT'].unique())\n",
    "\n",
    "# Creates a dictionary for the number of units of demand for each demand node\n",
    "demand_dict = {}\n",
    "for index, row in df_dict['OrderList'].iterrows():\n",
    "    dest_port = row['DESTINATION_PORT']\n",
    "    unit_quantity = row['UNIT_QUANTITY']\n",
    "    if dest_port in demand_dict:\n",
    "        demand_dict[dest_port] += unit_quantity\n",
    "    else:\n",
    "        demand_dict[dest_port] = unit_quantity"
   ]
  },
  {
   "cell_type": "markdown",
   "metadata": {},
   "source": [
    "#### Até agora temos as seguintes informações:\n",
    "#### Suply_dict: é um dicionário com a capacidade de produção de cada planta (em unidades)\n",
    "#### Demand nodes: é um dicionario com todos os portos que tiveram demanda\n",
    "#### Demand dict: é um dicionário com a quantidade total de unidades demandadas por cada porto."
   ]
  },
  {
   "cell_type": "code",
   "execution_count": 124,
   "metadata": {},
   "outputs": [],
   "source": [
    "# Creates a list of costs of each transportation path\n",
    "costs = []\n",
    "for index, row in df_dict['OrderList'].iterrows():\n",
    "    carrier = row['CARRIER']\n",
    "    orig_port = row['ORIG_PORT_CD']\n",
    "    dest_port = row['DEST_PORT_CD']\n",
    "    weight = row['WEIGHT']\n",
    "\n",
    "    matching_rates = df_dict['FreightRates'][(df_dict['FreightRates']['CARRIER'] == carrier) &\n",
    "                                  (df_dict['FreightRates']['ORIG_PORT_CD'] == orig_port) &\n",
    "                                  (df_dict['FreightRates']['DEST_PORT_CD'] == dest_port) &\n",
    "                                  (df_dict['FreightRates']['MINM_WGH_QTY'] <= weight) &\n",
    "                                  (df_dict['FreightRates']['MAX_WGH_QTY'] >= weight)]['RATE']\n",
    "    # Dentro da aba FreightRates, selecionar \"rate\" para cada transporte que corresponder ao porto de origem\n",
    "    # ao porto de destino e o peso estiver dentro do peso estipulado\n",
    "\n",
    "    rate = matching_rates.values[0] if not matching_rates.empty else None\n",
    "    costs.append(rate)\n",
    "    costs"
   ]
  },
  {
   "cell_type": "code",
   "execution_count": 125,
   "metadata": {},
   "outputs": [
    {
     "data": {
      "text/plain": [
       "0.3804"
      ]
     },
     "execution_count": 125,
     "metadata": {},
     "output_type": "execute_result"
    }
   ],
   "source": [
    "matching_rates.values[0]"
   ]
  },
  {
   "cell_type": "code",
   "execution_count": 126,
   "metadata": {},
   "outputs": [
    {
     "data": {
      "text/plain": [
       "[12.2784,\n",
       " 12.2784,\n",
       " 12.2784,\n",
       " 12.2784,\n",
       " 12.2784,\n",
       " 12.2784,\n",
       " 12.2784,\n",
       " 12.2784,\n",
       " 0.0824,\n",
       " 0.0824,\n",
       " 0.0824,\n",
       " 0.0824,\n",
       " 0.0824,\n",
       " 0.0824,\n",
       " 0.0824,\n",
       " 0.0824,\n",
       " 0.0824,\n",
       " 0.0824,\n",
       " 0.0824,\n",
       " 0.0824,\n",
       " 0.0824,\n",
       " 0.0824,\n",
       " 0.0824,\n",
       " 0.0824,\n",
       " 0.0824,\n",
       " 0.0824,\n",
       " 0.0824,\n",
       " 0.0824,\n",
       " 0.0824,\n",
       " 0.0824,\n",
       " 0.0824,\n",
       " 0.0824,\n",
       " 0.0824,\n",
       " 0.0824,\n",
       " 0.0824,\n",
       " 0.0824,\n",
       " 0.0824,\n",
       " 0.0824,\n",
       " 0.0824,\n",
       " 0.0824,\n",
       " 0.0824,\n",
       " 0.0824,\n",
       " 0.0824,\n",
       " 0.0824,\n",
       " 0.0824,\n",
       " 0.0824,\n",
       " 0.0824,\n",
       " 0.0824,\n",
       " 0.0824,\n",
       " 0.0824,\n",
       " 0.0824,\n",
       " 0.0824,\n",
       " 0.0824,\n",
       " 0.0824,\n",
       " 0.0824,\n",
       " 0.0824,\n",
       " 0.0824,\n",
       " 0.0824,\n",
       " 0.0824,\n",
       " 0.0824,\n",
       " 0.0824,\n",
       " 0.0824,\n",
       " 0.0824,\n",
       " 0.0824,\n",
       " 0.0824,\n",
       " 0.0824,\n",
       " 0.0824,\n",
       " 0.0824,\n",
       " 0.0824,\n",
       " 0.0824,\n",
       " 0.0824,\n",
       " 0.0824,\n",
       " 0.0824,\n",
       " 0.0824,\n",
       " 0.0824,\n",
       " 0.0824,\n",
       " 0.0824,\n",
       " 0.0824,\n",
       " 0.0824,\n",
       " 0.0824,\n",
       " 0.0824,\n",
       " 0.0824,\n",
       " 0.0824,\n",
       " 0.0824,\n",
       " 0.0824,\n",
       " 0.0824,\n",
       " 0.0824,\n",
       " 0.0824,\n",
       " 0.0824,\n",
       " 0.0824,\n",
       " 0.0824,\n",
       " 0.0824,\n",
       " 0.0824,\n",
       " 0.0824,\n",
       " 0.0824,\n",
       " 0.0824,\n",
       " 0.0824,\n",
       " 0.0824,\n",
       " 0.0824,\n",
       " 0.0824,\n",
       " 0.0824,\n",
       " 0.0824,\n",
       " 0.0824,\n",
       " 0.0824,\n",
       " 0.0824,\n",
       " 0.0824,\n",
       " 0.0824,\n",
       " 0.0824,\n",
       " 0.0824,\n",
       " 0.0824,\n",
       " 0.0824,\n",
       " 0.0824,\n",
       " 0.0824,\n",
       " 0.0824,\n",
       " 0.0824,\n",
       " 0.0824,\n",
       " 0.0824,\n",
       " 0.0824,\n",
       " 0.0824,\n",
       " 0.0824,\n",
       " 0.0824,\n",
       " 0.0824,\n",
       " 0.0824,\n",
       " 0.0824,\n",
       " 0.0824,\n",
       " 0.0824,\n",
       " 0.0824,\n",
       " 0.0824,\n",
       " 0.0824,\n",
       " 0.0824,\n",
       " 0.0824,\n",
       " 0.0824,\n",
       " 0.0824,\n",
       " 0.0824,\n",
       " 0.0824,\n",
       " 0.0824,\n",
       " 0.0824,\n",
       " 0.0824,\n",
       " 0.0824,\n",
       " 0.0824,\n",
       " 0.0824,\n",
       " 0.0824,\n",
       " 0.0824,\n",
       " 0.0824,\n",
       " 0.0824,\n",
       " 0.0824,\n",
       " 0.0824,\n",
       " 0.0824,\n",
       " 0.056400000000000006,\n",
       " 0.056400000000000006,\n",
       " 0.056400000000000006,\n",
       " 0.056400000000000006,\n",
       " 0.056400000000000006,\n",
       " 0.056400000000000006,\n",
       " 0.056400000000000006,\n",
       " 0.056400000000000006,\n",
       " 0.056400000000000006,\n",
       " 0.056400000000000006,\n",
       " 0.056400000000000006,\n",
       " 0.056400000000000006,\n",
       " 0.056400000000000006,\n",
       " 0.056400000000000006,\n",
       " 0.056400000000000006,\n",
       " 0.056400000000000006,\n",
       " 0.056400000000000006,\n",
       " 0.056400000000000006,\n",
       " 0.056400000000000006,\n",
       " 0.056400000000000006,\n",
       " 0.0824,\n",
       " 0.0824,\n",
       " 0.0824,\n",
       " 0.0824,\n",
       " 0.0824,\n",
       " 0.0824,\n",
       " 0.0824,\n",
       " 0.0824,\n",
       " 0.0824,\n",
       " 0.0824,\n",
       " 0.0824,\n",
       " 0.0824,\n",
       " 0.0824,\n",
       " 0.0824,\n",
       " 0.0824,\n",
       " 0.0824,\n",
       " 0.0824,\n",
       " 0.0824,\n",
       " 0.0824,\n",
       " 0.0824,\n",
       " 0.0824,\n",
       " 0.0824,\n",
       " 0.0824,\n",
       " 0.0824,\n",
       " 0.0824,\n",
       " 0.0824,\n",
       " 0.0824,\n",
       " 0.0824,\n",
       " 0.0824,\n",
       " 0.0824,\n",
       " 0.0824,\n",
       " 0.0824,\n",
       " 0.0824,\n",
       " 0.0824,\n",
       " 0.0824,\n",
       " 0.0824,\n",
       " 0.0824,\n",
       " 0.0824,\n",
       " 0.0824,\n",
       " 0.0824,\n",
       " 0.0824,\n",
       " 0.0824,\n",
       " 0.0824,\n",
       " 0.0824,\n",
       " 0.0824,\n",
       " 0.0824,\n",
       " 0.0824,\n",
       " 0.0824,\n",
       " 0.0824,\n",
       " 0.0824,\n",
       " 0.0824,\n",
       " 0.0824,\n",
       " 0.0824,\n",
       " 0.0824,\n",
       " 0.0824,\n",
       " 0.0824,\n",
       " 0.0824,\n",
       " 0.0824,\n",
       " 0.0824,\n",
       " 0.0824,\n",
       " 0.0824,\n",
       " 0.0824,\n",
       " 0.0824,\n",
       " 0.0824,\n",
       " 0.0824,\n",
       " 0.0824,\n",
       " 0.0824,\n",
       " 0.0824,\n",
       " 0.0824,\n",
       " 0.0824,\n",
       " 0.0824,\n",
       " 0.0824,\n",
       " 0.0824,\n",
       " 0.0824,\n",
       " 0.0824,\n",
       " 0.0824,\n",
       " 0.0824,\n",
       " 0.0824,\n",
       " 0.0824,\n",
       " 0.0824,\n",
       " 0.056400000000000006,\n",
       " 0.056400000000000006,\n",
       " 0.056400000000000006,\n",
       " 0.056400000000000006,\n",
       " 0.056400000000000006,\n",
       " 0.056400000000000006,\n",
       " 0.056400000000000006,\n",
       " 0.056400000000000006,\n",
       " 0.056400000000000006,\n",
       " 0.056400000000000006,\n",
       " 0.056400000000000006,\n",
       " 0.056400000000000006,\n",
       " 0.056400000000000006,\n",
       " 0.056400000000000006,\n",
       " 0.056400000000000006,\n",
       " 0.056400000000000006,\n",
       " 0.056400000000000006,\n",
       " 0.056400000000000006,\n",
       " 0.056400000000000006,\n",
       " 0.056400000000000006,\n",
       " 0.056400000000000006,\n",
       " 0.056400000000000006,\n",
       " 0.056400000000000006,\n",
       " 0.056400000000000006,\n",
       " 0.056400000000000006,\n",
       " 0.056400000000000006,\n",
       " 0.056400000000000006,\n",
       " 0.056400000000000006,\n",
       " 0.056400000000000006,\n",
       " 0.056400000000000006,\n",
       " 0.056400000000000006,\n",
       " 0.056400000000000006,\n",
       " 0.056400000000000006,\n",
       " 0.056400000000000006,\n",
       " 0.056400000000000006,\n",
       " 0.056400000000000006,\n",
       " 0.056400000000000006,\n",
       " 0.056400000000000006,\n",
       " 0.056400000000000006,\n",
       " 0.056400000000000006,\n",
       " 0.0824,\n",
       " 0.0824,\n",
       " 0.0824,\n",
       " 0.0824,\n",
       " 0.0824,\n",
       " 0.0824,\n",
       " 0.0824,\n",
       " 0.0824,\n",
       " 0.0824,\n",
       " 0.0824,\n",
       " 0.0824,\n",
       " 0.0824,\n",
       " 0.0824,\n",
       " 0.0824,\n",
       " 0.0824,\n",
       " 0.0824,\n",
       " 0.0824,\n",
       " 0.0824,\n",
       " 0.0824,\n",
       " 0.0824,\n",
       " 0.0824,\n",
       " 0.0824,\n",
       " 0.0824,\n",
       " 0.0824,\n",
       " 0.0824,\n",
       " 0.0824,\n",
       " 0.0824,\n",
       " 0.0824,\n",
       " 0.0824,\n",
       " 0.0824,\n",
       " 0.0824,\n",
       " 0.0824,\n",
       " 0.0824,\n",
       " 0.0824,\n",
       " 0.0824,\n",
       " 0.0824,\n",
       " 0.0824,\n",
       " 0.0824,\n",
       " 0.0824,\n",
       " 0.0824,\n",
       " 0.0824,\n",
       " 0.0824,\n",
       " 0.0824,\n",
       " 0.0824,\n",
       " 0.0824,\n",
       " 0.0824,\n",
       " 0.0824,\n",
       " 0.0824,\n",
       " 0.0824,\n",
       " 0.0824,\n",
       " 0.0824,\n",
       " 0.0824,\n",
       " 0.0824,\n",
       " 0.0824,\n",
       " 0.0824,\n",
       " 0.0824,\n",
       " 0.0824,\n",
       " 0.0824,\n",
       " 0.0824,\n",
       " 0.0824,\n",
       " 0.0824,\n",
       " 0.0824,\n",
       " 0.0824,\n",
       " 0.0824,\n",
       " 0.0824,\n",
       " 0.0824,\n",
       " 0.0824,\n",
       " 0.0824,\n",
       " 0.0824,\n",
       " 0.0824,\n",
       " 0.0824,\n",
       " 0.0824,\n",
       " 0.0824,\n",
       " 0.0824,\n",
       " 0.0824,\n",
       " 0.0824,\n",
       " 0.0824,\n",
       " 0.0824,\n",
       " 0.0824,\n",
       " 0.0824,\n",
       " 0.056400000000000006,\n",
       " 0.056400000000000006,\n",
       " 0.056400000000000006,\n",
       " 0.056400000000000006,\n",
       " 0.056400000000000006,\n",
       " 0.056400000000000006,\n",
       " 0.056400000000000006,\n",
       " 0.056400000000000006,\n",
       " 0.056400000000000006,\n",
       " 0.056400000000000006,\n",
       " 0.056400000000000006,\n",
       " 0.056400000000000006,\n",
       " 0.056400000000000006,\n",
       " 0.056400000000000006,\n",
       " 0.056400000000000006,\n",
       " 0.056400000000000006,\n",
       " 0.056400000000000006,\n",
       " 0.056400000000000006,\n",
       " 0.056400000000000006,\n",
       " 0.056400000000000006,\n",
       " 0.0824,\n",
       " 0.0824,\n",
       " 0.0824,\n",
       " 0.0824,\n",
       " 0.0824,\n",
       " 0.0824,\n",
       " 0.0824,\n",
       " 0.0824,\n",
       " 0.0824,\n",
       " 0.0824,\n",
       " 0.0824,\n",
       " 0.0824,\n",
       " 0.0824,\n",
       " 0.0824,\n",
       " 0.0824,\n",
       " 0.0824,\n",
       " 0.0824,\n",
       " 0.0824,\n",
       " 0.0824,\n",
       " 0.0824,\n",
       " 0.0824,\n",
       " 0.0824,\n",
       " 0.0824,\n",
       " 0.0824,\n",
       " 0.0824,\n",
       " 0.0824,\n",
       " 0.0824,\n",
       " 0.0824,\n",
       " 0.0824,\n",
       " 0.0824,\n",
       " 0.0824,\n",
       " 0.0824,\n",
       " 0.0824,\n",
       " 0.0824,\n",
       " 0.0824,\n",
       " 0.0824,\n",
       " 0.0824,\n",
       " 0.0824,\n",
       " 0.0824,\n",
       " 0.0824,\n",
       " 0.0824,\n",
       " 0.0824,\n",
       " 0.0824,\n",
       " 0.0824,\n",
       " 0.0824,\n",
       " 0.0824,\n",
       " 0.0824,\n",
       " 0.0824,\n",
       " 0.0824,\n",
       " 0.0824,\n",
       " 0.0824,\n",
       " 0.0824,\n",
       " 0.0824,\n",
       " 0.0824,\n",
       " 0.0824,\n",
       " 0.0824,\n",
       " 0.0824,\n",
       " 0.0824,\n",
       " 0.0824,\n",
       " 0.0824,\n",
       " 0.0824,\n",
       " 0.0824,\n",
       " 0.0824,\n",
       " 0.0824,\n",
       " 0.0824,\n",
       " 0.0824,\n",
       " 0.0824,\n",
       " 0.0824,\n",
       " 0.0824,\n",
       " 0.0824,\n",
       " 0.0824,\n",
       " 0.0824,\n",
       " 0.0824,\n",
       " 0.0824,\n",
       " 0.0824,\n",
       " 0.0824,\n",
       " 0.0824,\n",
       " 0.0824,\n",
       " 0.0824,\n",
       " 0.0824,\n",
       " 0.0824,\n",
       " 0.0824,\n",
       " 0.0824,\n",
       " 0.0824,\n",
       " 0.0824,\n",
       " 0.0824,\n",
       " 0.0824,\n",
       " 0.0824,\n",
       " 0.0824,\n",
       " 0.0824,\n",
       " 0.0824,\n",
       " 0.0824,\n",
       " 0.0824,\n",
       " 0.0824,\n",
       " 0.0824,\n",
       " 0.0824,\n",
       " 0.0824,\n",
       " 0.0824,\n",
       " 0.0824,\n",
       " 0.0824,\n",
       " 0.0824,\n",
       " 0.0824,\n",
       " 0.0824,\n",
       " 0.0824,\n",
       " 0.0824,\n",
       " 0.0824,\n",
       " 0.0824,\n",
       " 0.0824,\n",
       " 0.0824,\n",
       " 0.0824,\n",
       " 0.0824,\n",
       " 0.0824,\n",
       " 0.0824,\n",
       " 0.0824,\n",
       " 0.0824,\n",
       " 0.0824,\n",
       " 0.0824,\n",
       " 0.0824,\n",
       " 0.0824,\n",
       " 0.0824,\n",
       " 0.0824,\n",
       " 0.0824,\n",
       " 0.0824,\n",
       " 0.0824,\n",
       " 0.0824,\n",
       " 0.0824,\n",
       " 0.0824,\n",
       " 0.0824,\n",
       " 0.0824,\n",
       " 0.0824,\n",
       " 0.0824,\n",
       " 0.0824,\n",
       " 0.0824,\n",
       " 0.0824,\n",
       " 0.0824,\n",
       " 0.0824,\n",
       " 0.0824,\n",
       " 0.0824,\n",
       " 0.0824,\n",
       " 0.0824,\n",
       " 0.0824,\n",
       " 0.0824,\n",
       " 0.0824,\n",
       " 0.0824,\n",
       " 0.0824,\n",
       " 0.0824,\n",
       " 0.0824,\n",
       " 0.0824,\n",
       " 0.0824,\n",
       " 0.0824,\n",
       " 0.0824,\n",
       " 0.0824,\n",
       " 0.0824,\n",
       " 0.0824,\n",
       " 0.0824,\n",
       " 0.0824,\n",
       " 0.0824,\n",
       " 0.0824,\n",
       " 0.0824,\n",
       " 0.0824,\n",
       " 0.0824,\n",
       " 0.0824,\n",
       " 0.0824,\n",
       " 0.0824,\n",
       " 0.0824,\n",
       " 0.0824,\n",
       " 0.0824,\n",
       " 0.0824,\n",
       " 0.0824,\n",
       " 0.0824,\n",
       " 0.0824,\n",
       " 0.0824,\n",
       " 0.0824,\n",
       " 0.0824,\n",
       " 0.0824,\n",
       " 0.0824,\n",
       " 0.0824,\n",
       " 0.0824,\n",
       " 0.0824,\n",
       " 0.0824,\n",
       " 0.0824,\n",
       " 0.0824,\n",
       " 0.0824,\n",
       " 0.0824,\n",
       " 0.0824,\n",
       " 0.0824,\n",
       " 0.0824,\n",
       " 0.0824,\n",
       " 0.0824,\n",
       " 0.0824,\n",
       " 0.0824,\n",
       " 0.0824,\n",
       " 0.0824,\n",
       " 0.0824,\n",
       " 0.0824,\n",
       " 0.0824,\n",
       " 0.0824,\n",
       " 0.0824,\n",
       " 0.0824,\n",
       " 0.0824,\n",
       " 0.0824,\n",
       " 0.0824,\n",
       " 0.0824,\n",
       " 0.0824,\n",
       " 0.0824,\n",
       " 0.0824,\n",
       " 0.0824,\n",
       " 0.0824,\n",
       " 0.0824,\n",
       " 0.0824,\n",
       " 0.0824,\n",
       " 0.0824,\n",
       " 0.0824,\n",
       " 0.0824,\n",
       " 0.0824,\n",
       " 0.0824,\n",
       " 0.0824,\n",
       " 0.0824,\n",
       " 0.0824,\n",
       " 0.0824,\n",
       " 0.0824,\n",
       " 0.0824,\n",
       " 0.0824,\n",
       " 0.0824,\n",
       " 0.0824,\n",
       " 0.0824,\n",
       " 0.0824,\n",
       " 0.0824,\n",
       " 0.0824,\n",
       " 0.0824,\n",
       " 0.0824,\n",
       " 0.0824,\n",
       " 0.0824,\n",
       " 0.0824,\n",
       " 0.0824,\n",
       " 0.0824,\n",
       " 0.0824,\n",
       " 0.0824,\n",
       " 0.0824,\n",
       " 0.0824,\n",
       " 0.0824,\n",
       " 0.0824,\n",
       " 0.0824,\n",
       " 0.0824,\n",
       " 0.0824,\n",
       " 0.0824,\n",
       " 0.0824,\n",
       " 0.0824,\n",
       " 0.0824,\n",
       " 0.0824,\n",
       " 0.0824,\n",
       " 0.0824,\n",
       " 0.0824,\n",
       " 0.0824,\n",
       " 0.0824,\n",
       " 0.0824,\n",
       " 0.0824,\n",
       " 0.0824,\n",
       " 0.0824,\n",
       " 0.0824,\n",
       " 0.0824,\n",
       " 0.0824,\n",
       " 0.0824,\n",
       " 0.0824,\n",
       " 0.0824,\n",
       " 0.0824,\n",
       " 0.0824,\n",
       " 0.0824,\n",
       " 0.0824,\n",
       " 0.0824,\n",
       " 0.0824,\n",
       " 0.0824,\n",
       " 0.0824,\n",
       " 0.0824,\n",
       " 0.0824,\n",
       " 0.0824,\n",
       " 0.0824,\n",
       " 0.0824,\n",
       " 0.0824,\n",
       " 0.0824,\n",
       " 0.0824,\n",
       " 0.0824,\n",
       " 0.0824,\n",
       " 0.0824,\n",
       " 0.0824,\n",
       " 0.0824,\n",
       " 0.0824,\n",
       " 0.0824,\n",
       " 0.0824,\n",
       " 0.0824,\n",
       " 0.0824,\n",
       " 0.0824,\n",
       " 0.0824,\n",
       " 0.0824,\n",
       " 0.0824,\n",
       " 0.0824,\n",
       " 0.0824,\n",
       " 0.0824,\n",
       " 0.0824,\n",
       " 0.0824,\n",
       " 0.0824,\n",
       " 0.0824,\n",
       " 0.0824,\n",
       " 0.0824,\n",
       " 0.0824,\n",
       " 0.0824,\n",
       " 0.0824,\n",
       " 0.0824,\n",
       " 0.0824,\n",
       " 0.0824,\n",
       " 0.0824,\n",
       " 0.0824,\n",
       " 0.0824,\n",
       " 0.0824,\n",
       " 0.0824,\n",
       " 0.0824,\n",
       " 0.0824,\n",
       " 0.0824,\n",
       " 0.0824,\n",
       " 0.0824,\n",
       " 0.0824,\n",
       " 0.0824,\n",
       " 0.0824,\n",
       " 0.0824,\n",
       " 0.0824,\n",
       " 0.0824,\n",
       " 0.0824,\n",
       " 0.0824,\n",
       " 0.0824,\n",
       " 0.0824,\n",
       " 0.0824,\n",
       " 0.0824,\n",
       " 0.0824,\n",
       " 0.0824,\n",
       " 0.0824,\n",
       " 0.0824,\n",
       " 0.0824,\n",
       " 0.0824,\n",
       " 0.0824,\n",
       " 0.0824,\n",
       " 0.0824,\n",
       " 0.0824,\n",
       " 0.0824,\n",
       " 0.0824,\n",
       " 0.0824,\n",
       " 0.0824,\n",
       " 0.0824,\n",
       " 0.0824,\n",
       " 0.0824,\n",
       " 0.0824,\n",
       " 0.0824,\n",
       " 0.0824,\n",
       " 0.0824,\n",
       " 0.0824,\n",
       " 0.0824,\n",
       " 0.0824,\n",
       " 0.0824,\n",
       " 0.0824,\n",
       " 0.0824,\n",
       " 0.0824,\n",
       " 0.0824,\n",
       " 0.0824,\n",
       " 0.0824,\n",
       " 0.0824,\n",
       " 0.0824,\n",
       " 0.0824,\n",
       " 0.0824,\n",
       " 0.0824,\n",
       " 0.0824,\n",
       " 0.0824,\n",
       " 0.0824,\n",
       " 0.0824,\n",
       " 0.0824,\n",
       " 0.0824,\n",
       " 0.0824,\n",
       " 0.0824,\n",
       " 0.0824,\n",
       " 0.0824,\n",
       " 0.0824,\n",
       " 0.0824,\n",
       " 0.0824,\n",
       " 0.0824,\n",
       " 0.0824,\n",
       " 0.0824,\n",
       " 0.0824,\n",
       " 0.0824,\n",
       " 0.0824,\n",
       " 0.0824,\n",
       " 0.0824,\n",
       " 0.0824,\n",
       " 0.0824,\n",
       " 0.0824,\n",
       " 0.0824,\n",
       " 0.0824,\n",
       " 0.0824,\n",
       " 0.0824,\n",
       " 0.0824,\n",
       " 0.0824,\n",
       " 0.0824,\n",
       " 0.0824,\n",
       " 0.0824,\n",
       " 0.0824,\n",
       " 0.0824,\n",
       " 0.0824,\n",
       " 0.0824,\n",
       " 0.0824,\n",
       " 0.0824,\n",
       " 0.0824,\n",
       " 0.0824,\n",
       " 0.0824,\n",
       " 0.0824,\n",
       " 0.0824,\n",
       " 0.0824,\n",
       " 0.0824,\n",
       " 0.0824,\n",
       " 0.0824,\n",
       " 0.0824,\n",
       " 0.0824,\n",
       " 0.0824,\n",
       " 0.0824,\n",
       " 0.0824,\n",
       " 0.0824,\n",
       " 0.0824,\n",
       " 0.0824,\n",
       " 0.0824,\n",
       " 0.0824,\n",
       " 0.0824,\n",
       " 0.0824,\n",
       " 0.0824,\n",
       " 0.0824,\n",
       " 0.0824,\n",
       " 0.0824,\n",
       " 0.0824,\n",
       " 0.0824,\n",
       " 0.0824,\n",
       " 0.0824,\n",
       " 0.0824,\n",
       " 0.0824,\n",
       " 0.0824,\n",
       " 0.0824,\n",
       " 0.0824,\n",
       " 0.0824,\n",
       " 0.0824,\n",
       " 0.0824,\n",
       " 0.0824,\n",
       " 0.0824,\n",
       " 0.0824,\n",
       " 0.0824,\n",
       " 0.0824,\n",
       " 0.0824,\n",
       " 0.0824,\n",
       " 0.0824,\n",
       " 0.0824,\n",
       " 0.0824,\n",
       " 0.0824,\n",
       " 0.0824,\n",
       " 0.0824,\n",
       " 0.0824,\n",
       " 0.0824,\n",
       " 0.0824,\n",
       " 0.0824,\n",
       " 0.0824,\n",
       " 0.0824,\n",
       " 0.0824,\n",
       " 0.0824,\n",
       " 0.0824,\n",
       " 0.0824,\n",
       " 0.0824,\n",
       " 0.0824,\n",
       " 0.0824,\n",
       " 0.0824,\n",
       " 0.0824,\n",
       " 0.0824,\n",
       " 0.0824,\n",
       " 0.0824,\n",
       " 0.0824,\n",
       " 0.0824,\n",
       " 0.0824,\n",
       " 0.0824,\n",
       " 0.0824,\n",
       " 0.0824,\n",
       " 0.0824,\n",
       " 0.0824,\n",
       " 0.0824,\n",
       " 0.0824,\n",
       " 0.0824,\n",
       " 0.0824,\n",
       " 0.0824,\n",
       " 0.0824,\n",
       " 0.0824,\n",
       " 0.0824,\n",
       " 0.0824,\n",
       " 0.0824,\n",
       " 0.0824,\n",
       " 0.0824,\n",
       " 0.0824,\n",
       " 0.0824,\n",
       " 0.0824,\n",
       " 0.0824,\n",
       " 0.0824,\n",
       " 0.0824,\n",
       " 0.0824,\n",
       " 0.0824,\n",
       " 0.0824,\n",
       " 0.0824,\n",
       " 0.0824,\n",
       " 0.0824,\n",
       " 0.0824,\n",
       " 0.0824,\n",
       " 0.0824,\n",
       " 0.0824,\n",
       " 0.0824,\n",
       " 0.0824,\n",
       " 0.0824,\n",
       " 0.0824,\n",
       " 0.0824,\n",
       " 0.0824,\n",
       " 0.0824,\n",
       " 0.0824,\n",
       " 0.0824,\n",
       " 0.0824,\n",
       " 0.0824,\n",
       " 0.0824,\n",
       " 0.0824,\n",
       " 0.0824,\n",
       " 0.0824,\n",
       " 0.0824,\n",
       " 0.0824,\n",
       " 0.0824,\n",
       " 0.0824,\n",
       " 0.0824,\n",
       " 0.0824,\n",
       " 0.0824,\n",
       " 0.0824,\n",
       " 0.0824,\n",
       " 0.0824,\n",
       " 0.0824,\n",
       " 0.0824,\n",
       " 0.0824,\n",
       " 0.0824,\n",
       " 0.0824,\n",
       " 0.0824,\n",
       " 0.0824,\n",
       " 0.0824,\n",
       " 0.0824,\n",
       " 0.0824,\n",
       " 0.0824,\n",
       " 0.0824,\n",
       " 0.0824,\n",
       " 0.0824,\n",
       " 0.0824,\n",
       " 0.0824,\n",
       " 0.0824,\n",
       " 0.0824,\n",
       " 0.0824,\n",
       " 0.0824,\n",
       " 0.0824,\n",
       " 0.0824,\n",
       " 0.0824,\n",
       " 0.0824,\n",
       " 0.0824,\n",
       " 0.0824,\n",
       " 0.0824,\n",
       " 0.0824,\n",
       " 0.0824,\n",
       " 0.0824,\n",
       " 0.0824,\n",
       " 0.0824,\n",
       " 0.0824,\n",
       " 0.0824,\n",
       " 0.0824,\n",
       " 0.0824,\n",
       " 0.0824,\n",
       " 0.0824,\n",
       " 0.0824,\n",
       " 0.0824,\n",
       " 0.0824,\n",
       " 0.0824,\n",
       " 0.0824,\n",
       " 0.0824,\n",
       " 0.0824,\n",
       " 0.0824,\n",
       " 0.0824,\n",
       " 0.0824,\n",
       " 0.0824,\n",
       " 0.0824,\n",
       " 0.0824,\n",
       " 0.0824,\n",
       " 0.0824,\n",
       " 0.0824,\n",
       " 0.0824,\n",
       " 0.0824,\n",
       " 0.0824,\n",
       " 0.0824,\n",
       " 0.0824,\n",
       " 0.0824,\n",
       " 0.0824,\n",
       " 0.0824,\n",
       " 0.0824,\n",
       " 0.0824,\n",
       " 0.0824,\n",
       " 0.0824,\n",
       " 0.0824,\n",
       " 0.0824,\n",
       " 0.0824,\n",
       " 0.0824,\n",
       " 0.0824,\n",
       " 0.0824,\n",
       " 0.0824,\n",
       " 0.0824,\n",
       " 0.0824,\n",
       " 0.0824,\n",
       " ...]"
      ]
     },
     "execution_count": 126,
     "metadata": {},
     "output_type": "execute_result"
    }
   ],
   "source": [
    "#a tabela abaixo tem o preço de frete de cada transporte para cada pedido feito\n",
    "costs"
   ]
  },
  {
   "cell_type": "code",
   "execution_count": 127,
   "metadata": {},
   "outputs": [],
   "source": [
    "# Create a dictionary with supply nodes as keys, demand nodes as sub-keys, and costs as values\n",
    "cost_dict = {}\n",
    "for supply_node in supply_nodes:\n",
    "    cost_dict[supply_node] = {}\n",
    "    for demand_node in demand_nodes:\n",
    "        cost_dict[supply_node][demand_node] = costs.pop(0)\n"
   ]
  },
  {
   "cell_type": "code",
   "execution_count": 128,
   "metadata": {},
   "outputs": [
    {
     "data": {
      "text/plain": [
       "{'PLANT15': {'PORT09': 12.2784},\n",
       " 'PLANT17': {'PORT09': 12.2784},\n",
       " 'PLANT18': {'PORT09': 12.2784},\n",
       " 'PLANT05': {'PORT09': 12.2784},\n",
       " 'PLANT02': {'PORT09': 12.2784},\n",
       " 'PLANT01': {'PORT09': 12.2784},\n",
       " 'PLANT06': {'PORT09': 12.2784},\n",
       " 'PLANT10': {'PORT09': 12.2784},\n",
       " 'PLANT07': {'PORT09': 0.0824},\n",
       " 'PLANT14': {'PORT09': 0.0824},\n",
       " 'PLANT16': {'PORT09': 0.0824},\n",
       " 'PLANT12': {'PORT09': 0.0824},\n",
       " 'PLANT11': {'PORT09': 0.0824},\n",
       " 'PLANT09': {'PORT09': 0.0824},\n",
       " 'PLANT03': {'PORT09': 0.0824},\n",
       " 'PLANT13': {'PORT09': 0.0824},\n",
       " 'PLANT19': {'PORT09': 0.0824},\n",
       " 'PLANT08': {'PORT09': 0.0824},\n",
       " 'PLANT04': {'PORT09': 0.0824}}"
      ]
     },
     "execution_count": 128,
     "metadata": {},
     "output_type": "execute_result"
    }
   ],
   "source": [
    "# Dicionário com a planta de origem, a planta de destino e o custo de frete\n",
    "cost_dict"
   ]
  },
  {
   "cell_type": "code",
   "execution_count": 129,
   "metadata": {},
   "outputs": [],
   "source": [
    "# Import PuLP modeler functions\n",
    "from pulp import *\n",
    "\n",
    "# Creates the 'prob' variable to contain the problem data\n",
    "# definição do modelo\n",
    "prob = LpProblem(\"MaterialSupplyProblem\", LpMinimize)"
   ]
  },
  {
   "cell_type": "code",
   "execution_count": 130,
   "metadata": {},
   "outputs": [],
   "source": [
    "# Creates a list of tuples containing all the possible routes for transport\n",
    "#lista com a tupla de porto de origem e porto destino\n",
    "Routes = [(w, b) for w in supply_nodes for b in demand_nodes]"
   ]
  },
  {
   "cell_type": "code",
   "execution_count": 131,
   "metadata": {},
   "outputs": [
    {
     "data": {
      "text/plain": [
       "[('PLANT15', 'PORT09'),\n",
       " ('PLANT17', 'PORT09'),\n",
       " ('PLANT18', 'PORT09'),\n",
       " ('PLANT05', 'PORT09'),\n",
       " ('PLANT02', 'PORT09'),\n",
       " ('PLANT01', 'PORT09'),\n",
       " ('PLANT06', 'PORT09'),\n",
       " ('PLANT10', 'PORT09'),\n",
       " ('PLANT07', 'PORT09'),\n",
       " ('PLANT14', 'PORT09'),\n",
       " ('PLANT16', 'PORT09'),\n",
       " ('PLANT12', 'PORT09'),\n",
       " ('PLANT11', 'PORT09'),\n",
       " ('PLANT09', 'PORT09'),\n",
       " ('PLANT03', 'PORT09'),\n",
       " ('PLANT13', 'PORT09'),\n",
       " ('PLANT19', 'PORT09'),\n",
       " ('PLANT08', 'PORT09'),\n",
       " ('PLANT04', 'PORT09')]"
      ]
     },
     "execution_count": 131,
     "metadata": {},
     "output_type": "execute_result"
    }
   ],
   "source": [
    "Routes"
   ]
  },
  {
   "cell_type": "code",
   "execution_count": 132,
   "metadata": {},
   "outputs": [
    {
     "data": {
      "text/plain": [
       "{'PLANT15': {'PORT09': Route_PLANT15_PORT09},\n",
       " 'PLANT17': {'PORT09': Route_PLANT17_PORT09},\n",
       " 'PLANT18': {'PORT09': Route_PLANT18_PORT09},\n",
       " 'PLANT05': {'PORT09': Route_PLANT05_PORT09},\n",
       " 'PLANT02': {'PORT09': Route_PLANT02_PORT09},\n",
       " 'PLANT01': {'PORT09': Route_PLANT01_PORT09},\n",
       " 'PLANT06': {'PORT09': Route_PLANT06_PORT09},\n",
       " 'PLANT10': {'PORT09': Route_PLANT10_PORT09},\n",
       " 'PLANT07': {'PORT09': Route_PLANT07_PORT09},\n",
       " 'PLANT14': {'PORT09': Route_PLANT14_PORT09},\n",
       " 'PLANT16': {'PORT09': Route_PLANT16_PORT09},\n",
       " 'PLANT12': {'PORT09': Route_PLANT12_PORT09},\n",
       " 'PLANT11': {'PORT09': Route_PLANT11_PORT09},\n",
       " 'PLANT09': {'PORT09': Route_PLANT09_PORT09},\n",
       " 'PLANT03': {'PORT09': Route_PLANT03_PORT09},\n",
       " 'PLANT13': {'PORT09': Route_PLANT13_PORT09},\n",
       " 'PLANT19': {'PORT09': Route_PLANT19_PORT09},\n",
       " 'PLANT08': {'PORT09': Route_PLANT08_PORT09},\n",
       " 'PLANT04': {'PORT09': Route_PLANT04_PORT09}}"
      ]
     },
     "execution_count": 132,
     "metadata": {},
     "output_type": "execute_result"
    }
   ],
   "source": [
    "\n",
    "# A dictionary called 'Vars' is created to contain the referenced variables(the routes)\n",
    "# Variáveis do problema onde \"route\" é o nome (prefixo), a tupla são os índices, 0 é o limte inferior\n",
    "# uma vez que a rota tem que acontecer (não pode ser negativa), None é o superior e LpInteger diz que deve ser inteiro\n",
    "vars = LpVariable.dicts(\"Route\", (supply_nodes, demand_nodes), 0, None, LpInteger)\n",
    "vars"
   ]
  },
  {
   "cell_type": "code",
   "execution_count": 133,
   "metadata": {},
   "outputs": [
    {
     "data": {
      "text/plain": [
       "{'PORT09': Route_PLANT15_PORT09}"
      ]
     },
     "execution_count": 133,
     "metadata": {},
     "output_type": "execute_result"
    }
   ],
   "source": [
    "vars['PLANT15']"
   ]
  },
  {
   "cell_type": "code",
   "execution_count": 134,
   "metadata": {},
   "outputs": [
    {
     "data": {
      "text/plain": [
       "{'PORT09': 12.2784}"
      ]
     },
     "execution_count": 134,
     "metadata": {},
     "output_type": "execute_result"
    }
   ],
   "source": [
    "cost_dict['PLANT15']"
   ]
  },
  {
   "cell_type": "code",
   "execution_count": 135,
   "metadata": {},
   "outputs": [],
   "source": [
    "# The minimum objective function is added to 'prob' first\n",
    "# prob é o modelo, LpSum é a soma linear de uma lista de expressões\n",
    "prob += lpSum([vars[w][b] * cost_dict[w][b] for (w, b) in Routes]), \"Sum_of_Transporting_Costs\""
   ]
  },
  {
   "cell_type": "code",
   "execution_count": 136,
   "metadata": {},
   "outputs": [
    {
     "data": {
      "text/plain": [
       "MaterialSupplyProblem:\n",
       "MINIMIZE\n",
       "12.2784*Route_PLANT01_PORT09 + 12.2784*Route_PLANT02_PORT09 + 0.0824*Route_PLANT03_PORT09 + 0.0824*Route_PLANT04_PORT09 + 12.2784*Route_PLANT05_PORT09 + 12.2784*Route_PLANT06_PORT09 + 0.0824*Route_PLANT07_PORT09 + 0.0824*Route_PLANT08_PORT09 + 0.0824*Route_PLANT09_PORT09 + 12.2784*Route_PLANT10_PORT09 + 0.0824*Route_PLANT11_PORT09 + 0.0824*Route_PLANT12_PORT09 + 0.0824*Route_PLANT13_PORT09 + 0.0824*Route_PLANT14_PORT09 + 12.2784*Route_PLANT15_PORT09 + 0.0824*Route_PLANT16_PORT09 + 12.2784*Route_PLANT17_PORT09 + 12.2784*Route_PLANT18_PORT09 + 0.0824*Route_PLANT19_PORT09 + 0.0\n",
       "VARIABLES\n",
       "0 <= Route_PLANT01_PORT09 Integer\n",
       "0 <= Route_PLANT02_PORT09 Integer\n",
       "0 <= Route_PLANT03_PORT09 Integer\n",
       "0 <= Route_PLANT04_PORT09 Integer\n",
       "0 <= Route_PLANT05_PORT09 Integer\n",
       "0 <= Route_PLANT06_PORT09 Integer\n",
       "0 <= Route_PLANT07_PORT09 Integer\n",
       "0 <= Route_PLANT08_PORT09 Integer\n",
       "0 <= Route_PLANT09_PORT09 Integer\n",
       "0 <= Route_PLANT10_PORT09 Integer\n",
       "0 <= Route_PLANT11_PORT09 Integer\n",
       "0 <= Route_PLANT12_PORT09 Integer\n",
       "0 <= Route_PLANT13_PORT09 Integer\n",
       "0 <= Route_PLANT14_PORT09 Integer\n",
       "0 <= Route_PLANT15_PORT09 Integer\n",
       "0 <= Route_PLANT16_PORT09 Integer\n",
       "0 <= Route_PLANT17_PORT09 Integer\n",
       "0 <= Route_PLANT18_PORT09 Integer\n",
       "0 <= Route_PLANT19_PORT09 Integer"
      ]
     },
     "execution_count": 136,
     "metadata": {},
     "output_type": "execute_result"
    }
   ],
   "source": [
    "prob"
   ]
  },
  {
   "cell_type": "code",
   "execution_count": 137,
   "metadata": {},
   "outputs": [],
   "source": [
    "# # Import PuLP modeler functions\n",
    "# from pulp import *\n",
    "\n",
    "# # Creates the 'prob' variable to contain the problem data\n",
    "# # definição do modelo\n",
    "# prob = LpProblem(\"MaterialSupplyProblem\", LpMinimize)\n",
    "\n",
    "# # Creates a list of tuples containing all the possible routes for transport\n",
    "# Routes = [(w, b) for w in supply_nodes for b in demand_nodes]\n",
    "\n",
    "# # A dictionary called 'Vars' is created to contain the referenced variables(the routes)\n",
    "# vars = LpVariable.dicts(\"Route\", (supply_nodes, demand_nodes), 0, None, LpInteger)\n",
    "\n",
    "# # The minimum objective function is added to 'prob' first\n",
    "# prob += lpSum([vars[w][b] * cost_dict[w][b] for (w, b) in Routes]), \"Sum_of_Transporting_Costs\""
   ]
  },
  {
   "cell_type": "code",
   "execution_count": 138,
   "metadata": {},
   "outputs": [],
   "source": [
    "# The supply maximum constraints are added to prob for each supply node (warehouses)\n",
    "# A unidade de produtos demandados deve ser inferior ou igual a quantidade de produtos\n",
    "# produzidos em cada fábrica\n",
    "for w in supply_nodes:\n",
    "    prob += (\n",
    "        lpSum([vars[w][b] for b in demand_nodes]) <= supply_dict[w],\n",
    "        \"Sum_of_Products_out_of_warehouses_%s\" % w,\n",
    "    )\n",
    "\n",
    "\n",
    "# The demand minimum constraints are added to prob for each demand node (project)\n",
    "# o número de produtos fornecidos deve ser maior ou igual ao demandado\n",
    "for b in demand_nodes:\n",
    "    prob += (\n",
    "        lpSum([vars[w][b] for w in supply_nodes]) >= demand_dict[b],\n",
    "        \"Sum_of_Products_into_projects%s\" % b,\n",
    "    )\n",
    "\n",
    "# Add constraint to avoid routes from a node to itself\n",
    "# não pode haver distribuição para o mesmo local. Caso seja, a variável deve ser 0\n",
    "for w in supply_nodes:\n",
    "    for b in demand_nodes:\n",
    "        if w != b:  # Check if supply node is different from demand node\n",
    "            prob += (vars[w][b] >= 0, \"No_Self_Transportation_%s_%s\" % (w, b))\n",
    "        else:\n",
    "            prob += (vars[w][b] == 0, \"No_Self_Transportation_%s_%s\" % (w, b))\n",
    "            vars[w][b].lowBound = 0  # Set lower bound to 0 for self-transportation"
   ]
  },
  {
   "cell_type": "code",
   "execution_count": 139,
   "metadata": {},
   "outputs": [
    {
     "data": {
      "text/plain": [
       "MaterialSupplyProblem:\n",
       "MINIMIZE\n",
       "12.2784*Route_PLANT01_PORT09 + 12.2784*Route_PLANT02_PORT09 + 0.0824*Route_PLANT03_PORT09 + 0.0824*Route_PLANT04_PORT09 + 12.2784*Route_PLANT05_PORT09 + 12.2784*Route_PLANT06_PORT09 + 0.0824*Route_PLANT07_PORT09 + 0.0824*Route_PLANT08_PORT09 + 0.0824*Route_PLANT09_PORT09 + 12.2784*Route_PLANT10_PORT09 + 0.0824*Route_PLANT11_PORT09 + 0.0824*Route_PLANT12_PORT09 + 0.0824*Route_PLANT13_PORT09 + 0.0824*Route_PLANT14_PORT09 + 12.2784*Route_PLANT15_PORT09 + 0.0824*Route_PLANT16_PORT09 + 12.2784*Route_PLANT17_PORT09 + 12.2784*Route_PLANT18_PORT09 + 0.0824*Route_PLANT19_PORT09 + 0.0\n",
       "SUBJECT TO\n",
       "Sum_of_Products_out_of_warehouses_PLANT15: Route_PLANT15_PORT09 <= 11\n",
       "\n",
       "Sum_of_Products_out_of_warehouses_PLANT17: Route_PLANT17_PORT09 <= 8\n",
       "\n",
       "Sum_of_Products_out_of_warehouses_PLANT18: Route_PLANT18_PORT09 <= 111\n",
       "\n",
       "Sum_of_Products_out_of_warehouses_PLANT05: Route_PLANT05_PORT09 <= 385\n",
       "\n",
       "Sum_of_Products_out_of_warehouses_PLANT02: Route_PLANT02_PORT09 <= 138\n",
       "\n",
       "Sum_of_Products_out_of_warehouses_PLANT01: Route_PLANT01_PORT09 <= 1070\n",
       "\n",
       "Sum_of_Products_out_of_warehouses_PLANT06: Route_PLANT06_PORT09 <= 49\n",
       "\n",
       "Sum_of_Products_out_of_warehouses_PLANT10: Route_PLANT10_PORT09 <= 118\n",
       "\n",
       "Sum_of_Products_out_of_warehouses_PLANT07: Route_PLANT07_PORT09 <= 265\n",
       "\n",
       "Sum_of_Products_out_of_warehouses_PLANT14: Route_PLANT14_PORT09 <= 549\n",
       "\n",
       "Sum_of_Products_out_of_warehouses_PLANT16: Route_PLANT16_PORT09 <= 457\n",
       "\n",
       "Sum_of_Products_out_of_warehouses_PLANT12: Route_PLANT12_PORT09 <= 209\n",
       "\n",
       "Sum_of_Products_out_of_warehouses_PLANT11: Route_PLANT11_PORT09 <= 332\n",
       "\n",
       "Sum_of_Products_out_of_warehouses_PLANT09: Route_PLANT09_PORT09 <= 11\n",
       "\n",
       "Sum_of_Products_out_of_warehouses_PLANT03: Route_PLANT03_PORT09 <= 1013\n",
       "\n",
       "Sum_of_Products_out_of_warehouses_PLANT13: Route_PLANT13_PORT09 <= 490\n",
       "\n",
       "Sum_of_Products_out_of_warehouses_PLANT19: Route_PLANT19_PORT09 <= 7\n",
       "\n",
       "Sum_of_Products_out_of_warehouses_PLANT08: Route_PLANT08_PORT09 <= 14\n",
       "\n",
       "Sum_of_Products_out_of_warehouses_PLANT04: Route_PLANT04_PORT09 <= 554\n",
       "\n",
       "Sum_of_Products_into_projectsPORT09: Route_PLANT01_PORT09\n",
       " + Route_PLANT02_PORT09 + Route_PLANT03_PORT09 + Route_PLANT04_PORT09\n",
       " + Route_PLANT05_PORT09 + Route_PLANT06_PORT09 + Route_PLANT07_PORT09\n",
       " + Route_PLANT08_PORT09 + Route_PLANT09_PORT09 + Route_PLANT10_PORT09\n",
       " + Route_PLANT11_PORT09 + Route_PLANT12_PORT09 + Route_PLANT13_PORT09\n",
       " + Route_PLANT14_PORT09 + Route_PLANT15_PORT09 + Route_PLANT16_PORT09\n",
       " + Route_PLANT17_PORT09 + Route_PLANT18_PORT09 + Route_PLANT19_PORT09\n",
       " >= 55063704\n",
       "\n",
       "No_Self_Transportation_PLANT15_PORT09: Route_PLANT15_PORT09 >= 0\n",
       "\n",
       "No_Self_Transportation_PLANT17_PORT09: Route_PLANT17_PORT09 >= 0\n",
       "\n",
       "No_Self_Transportation_PLANT18_PORT09: Route_PLANT18_PORT09 >= 0\n",
       "\n",
       "No_Self_Transportation_PLANT05_PORT09: Route_PLANT05_PORT09 >= 0\n",
       "\n",
       "No_Self_Transportation_PLANT02_PORT09: Route_PLANT02_PORT09 >= 0\n",
       "\n",
       "No_Self_Transportation_PLANT01_PORT09: Route_PLANT01_PORT09 >= 0\n",
       "\n",
       "No_Self_Transportation_PLANT06_PORT09: Route_PLANT06_PORT09 >= 0\n",
       "\n",
       "No_Self_Transportation_PLANT10_PORT09: Route_PLANT10_PORT09 >= 0\n",
       "\n",
       "No_Self_Transportation_PLANT07_PORT09: Route_PLANT07_PORT09 >= 0\n",
       "\n",
       "No_Self_Transportation_PLANT14_PORT09: Route_PLANT14_PORT09 >= 0\n",
       "\n",
       "No_Self_Transportation_PLANT16_PORT09: Route_PLANT16_PORT09 >= 0\n",
       "\n",
       "No_Self_Transportation_PLANT12_PORT09: Route_PLANT12_PORT09 >= 0\n",
       "\n",
       "No_Self_Transportation_PLANT11_PORT09: Route_PLANT11_PORT09 >= 0\n",
       "\n",
       "No_Self_Transportation_PLANT09_PORT09: Route_PLANT09_PORT09 >= 0\n",
       "\n",
       "No_Self_Transportation_PLANT03_PORT09: Route_PLANT03_PORT09 >= 0\n",
       "\n",
       "No_Self_Transportation_PLANT13_PORT09: Route_PLANT13_PORT09 >= 0\n",
       "\n",
       "No_Self_Transportation_PLANT19_PORT09: Route_PLANT19_PORT09 >= 0\n",
       "\n",
       "No_Self_Transportation_PLANT08_PORT09: Route_PLANT08_PORT09 >= 0\n",
       "\n",
       "No_Self_Transportation_PLANT04_PORT09: Route_PLANT04_PORT09 >= 0\n",
       "\n",
       "VARIABLES\n",
       "0 <= Route_PLANT01_PORT09 Integer\n",
       "0 <= Route_PLANT02_PORT09 Integer\n",
       "0 <= Route_PLANT03_PORT09 Integer\n",
       "0 <= Route_PLANT04_PORT09 Integer\n",
       "0 <= Route_PLANT05_PORT09 Integer\n",
       "0 <= Route_PLANT06_PORT09 Integer\n",
       "0 <= Route_PLANT07_PORT09 Integer\n",
       "0 <= Route_PLANT08_PORT09 Integer\n",
       "0 <= Route_PLANT09_PORT09 Integer\n",
       "0 <= Route_PLANT10_PORT09 Integer\n",
       "0 <= Route_PLANT11_PORT09 Integer\n",
       "0 <= Route_PLANT12_PORT09 Integer\n",
       "0 <= Route_PLANT13_PORT09 Integer\n",
       "0 <= Route_PLANT14_PORT09 Integer\n",
       "0 <= Route_PLANT15_PORT09 Integer\n",
       "0 <= Route_PLANT16_PORT09 Integer\n",
       "0 <= Route_PLANT17_PORT09 Integer\n",
       "0 <= Route_PLANT18_PORT09 Integer\n",
       "0 <= Route_PLANT19_PORT09 Integer"
      ]
     },
     "execution_count": 139,
     "metadata": {},
     "output_type": "execute_result"
    }
   ],
   "source": [
    "prob"
   ]
  },
  {
   "cell_type": "code",
   "execution_count": 140,
   "metadata": {},
   "outputs": [
    {
     "name": "stdout",
     "output_type": "stream",
     "text": [
      "Welcome to the CBC MILP Solver \n",
      "Version: 2.10.3 \n",
      "Build Date: Dec 15 2019 \n",
      "\n",
      "command line - /home/giovane/.pyenv/versions/lewagon/lib/python3.10/site-packages/pulp/solverdir/cbc/linux/64/cbc /tmp/4d7c795d43874fba91fad92274677e23-pulp.mps timeMode elapsed branch printingOptions all solution /tmp/4d7c795d43874fba91fad92274677e23-pulp.sol (default strategy 1)\n",
      "At line 2 NAME          MODEL\n",
      "At line 3 ROWS\n",
      "At line 44 COLUMNS\n",
      "At line 159 RHS\n",
      "At line 199 BOUNDS\n",
      "At line 219 ENDATA\n",
      "Problem MODEL has 39 rows, 19 columns and 57 elements\n",
      "Coin0008I MODEL read with 0 errors\n",
      "Option for timeMode changed from cpu to elapsed\n",
      "Problem is infeasible - 0.00 seconds\n",
      "Option for printingOptions changed from normal to all\n",
      "Total time (CPU seconds):       0.00   (Wallclock seconds):       0.01\n",
      "\n",
      "Route_PLANT01_PORT09 = 1070.0\n",
      "Route_PLANT02_PORT09 = 138.0\n",
      "Route_PLANT03_PORT09 = 1013.0\n",
      "Route_PLANT04_PORT09 = 554.0\n",
      "Route_PLANT05_PORT09 = 385.0\n",
      "Route_PLANT06_PORT09 = 49.0\n",
      "Route_PLANT07_PORT09 = 265.0\n",
      "Route_PLANT08_PORT09 = 14.0\n",
      "Route_PLANT09_PORT09 = 11.0\n",
      "Route_PLANT10_PORT09 = 118.0\n",
      "Route_PLANT11_PORT09 = 332.0\n",
      "Route_PLANT12_PORT09 = 209.0\n",
      "Route_PLANT13_PORT09 = 490.0\n",
      "Route_PLANT14_PORT09 = 549.0\n",
      "Route_PLANT15_PORT09 = 55057924.0\n",
      "Route_PLANT16_PORT09 = 457.0\n",
      "Route_PLANT17_PORT09 = 8.0\n",
      "Route_PLANT18_PORT09 = 111.0\n",
      "Route_PLANT19_PORT09 = 7.0\n",
      "Value of Objective Function =  676046606.5976\n"
     ]
    }
   ],
   "source": [
    "# The problem is solved using PuLP's choice of Solver\n",
    "prob.solve()\n",
    "\n",
    "# Print the variables optimized value\n",
    "for v in prob.variables():\n",
    "    print(v.name, \"=\", v.varValue)\n",
    "\n",
    "# The optimised objective function value is printed to the screen\n",
    "print(\"Value of Objective Function = \", value(prob.objective))\n",
    "#Qual o número de unidades mínimo para cada porto?"
   ]
  },
  {
   "cell_type": "code",
   "execution_count": 141,
   "metadata": {},
   "outputs": [],
   "source": [
    "## Como repensar o problema?\n",
    "## 1 planta e muitos pontos de entrega\n",
    "## 2 plantas e muitos pontos de entrega"
   ]
  },
  {
   "cell_type": "code",
   "execution_count": null,
   "metadata": {},
   "outputs": [],
   "source": []
  }
 ],
 "metadata": {
  "kernelspec": {
   "display_name": "Python 3",
   "language": "python",
   "name": "python3"
  },
  "language_info": {
   "codemirror_mode": {
    "name": "ipython",
    "version": 3
   },
   "file_extension": ".py",
   "mimetype": "text/x-python",
   "name": "python",
   "nbconvert_exporter": "python",
   "pygments_lexer": "ipython3",
   "version": "3.10.6"
  }
 },
 "nbformat": 4,
 "nbformat_minor": 2
}
